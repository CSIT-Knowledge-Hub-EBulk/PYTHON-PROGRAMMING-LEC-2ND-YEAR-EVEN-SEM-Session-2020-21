{
 "cells": [
  {
   "cell_type": "code",
   "execution_count": 1,
   "metadata": {},
   "outputs": [],
   "source": [
    "#Herarchical Inheritance\n",
    "class Father:\n",
    "    def show_fa(self):\n",
    "        print(\"Father Class Method\")\n",
    "class Son(Father):\n",
    "    def show_so(self):\n",
    "        print(\"Son Class Method\")\n",
    "class Daughter(Father):\n",
    "    def show_da(self):\n",
    "        print(\"Daughter Class Method\")"
   ]
  },
  {
   "cell_type": "code",
   "execution_count": 15,
   "metadata": {},
   "outputs": [
    {
     "name": "stdout",
     "output_type": "stream",
     "text": [
      "Son Class Method\n",
      "Father Class Method\n"
     ]
    }
   ],
   "source": [
    "#Herarchical Inheritance\n",
    "class Father:\n",
    "    def show_fa(self):\n",
    "        print(\"Father Class Method\")\n",
    "class Son(Father):\n",
    "    def show_so(self):\n",
    "        print(\"Son Class Method\")\n",
    "class Daughter(Father):\n",
    "    def show_da(self):\n",
    "        print(\"Daughter Class Method\")\n",
    "s=Son()\n",
    "s.show_so()\n",
    "s.show_fa()"
   ]
  },
  {
   "cell_type": "code",
   "execution_count": 16,
   "metadata": {},
   "outputs": [
    {
     "name": "stdout",
     "output_type": "stream",
     "text": [
      "Son Class Method\n",
      "Father Class Method\n"
     ]
    },
    {
     "ename": "AttributeError",
     "evalue": "'Son' object has no attribute 'show_da'",
     "output_type": "error",
     "traceback": [
      "\u001b[1;31m---------------------------------------------------------------------------\u001b[0m",
      "\u001b[1;31mAttributeError\u001b[0m                            Traceback (most recent call last)",
      "\u001b[1;32m<ipython-input-16-2b468dc6ff18>\u001b[0m in \u001b[0;36m<module>\u001b[1;34m\u001b[0m\n\u001b[0;32m     12\u001b[0m \u001b[0ms\u001b[0m\u001b[1;33m.\u001b[0m\u001b[0mshow_so\u001b[0m\u001b[1;33m(\u001b[0m\u001b[1;33m)\u001b[0m\u001b[1;33m\u001b[0m\u001b[1;33m\u001b[0m\u001b[0m\n\u001b[0;32m     13\u001b[0m \u001b[0ms\u001b[0m\u001b[1;33m.\u001b[0m\u001b[0mshow_fa\u001b[0m\u001b[1;33m(\u001b[0m\u001b[1;33m)\u001b[0m\u001b[1;33m\u001b[0m\u001b[1;33m\u001b[0m\u001b[0m\n\u001b[1;32m---> 14\u001b[1;33m \u001b[0ms\u001b[0m\u001b[1;33m.\u001b[0m\u001b[0mshow_da\u001b[0m\u001b[1;33m(\u001b[0m\u001b[1;33m)\u001b[0m\u001b[1;33m\u001b[0m\u001b[1;33m\u001b[0m\u001b[0m\n\u001b[0m",
      "\u001b[1;31mAttributeError\u001b[0m: 'Son' object has no attribute 'show_da'"
     ]
    }
   ],
   "source": [
    "#Herarchical Inheritance\n",
    "class Father:\n",
    "    def show_fa(self):\n",
    "        print(\"Father Class Method\")\n",
    "class Son(Father):\n",
    "    def show_so(self):\n",
    "        print(\"Son Class Method\")\n",
    "class Daughter(Father):\n",
    "    def show_da(self):\n",
    "        print(\"Daughter Class Method\")\n",
    "s=Son()\n",
    "s.show_so()\n",
    "s.show_fa()\n",
    "s.show_da()"
   ]
  },
  {
   "cell_type": "code",
   "execution_count": 18,
   "metadata": {},
   "outputs": [
    {
     "name": "stdout",
     "output_type": "stream",
     "text": [
      "Daughter Class Method\n"
     ]
    }
   ],
   "source": [
    "#Herarchical Inheritance\n",
    "class Father:\n",
    "    def show_fa(self):\n",
    "        print(\"Father Class Method\")\n",
    "class Son(Father):\n",
    "    def show_so(self):\n",
    "        print(\"Son Class Method\")\n",
    "class Daughter(Father):\n",
    "    def show_da(self):\n",
    "        print(\"Daughter Class Method\")\n",
    "d=Daughter()\n",
    "d.show_da()"
   ]
  },
  {
   "cell_type": "code",
   "execution_count": 2,
   "metadata": {},
   "outputs": [
    {
     "name": "stdout",
     "output_type": "stream",
     "text": [
      "Daughter Class Method\n"
     ]
    },
    {
     "ename": "AttributeError",
     "evalue": "'Daughter' object has no attribute 'show_so'",
     "output_type": "error",
     "traceback": [
      "\u001b[1;31m---------------------------------------------------------------------------\u001b[0m",
      "\u001b[1;31mAttributeError\u001b[0m                            Traceback (most recent call last)",
      "\u001b[1;32m<ipython-input-2-03f6f77e4c24>\u001b[0m in \u001b[0;36m<module>\u001b[1;34m\u001b[0m\n\u001b[0;32m     11\u001b[0m \u001b[0md\u001b[0m\u001b[1;33m=\u001b[0m\u001b[0mDaughter\u001b[0m\u001b[1;33m(\u001b[0m\u001b[1;33m)\u001b[0m\u001b[1;33m\u001b[0m\u001b[1;33m\u001b[0m\u001b[0m\n\u001b[0;32m     12\u001b[0m \u001b[0md\u001b[0m\u001b[1;33m.\u001b[0m\u001b[0mshow_da\u001b[0m\u001b[1;33m(\u001b[0m\u001b[1;33m)\u001b[0m\u001b[1;33m\u001b[0m\u001b[1;33m\u001b[0m\u001b[0m\n\u001b[1;32m---> 13\u001b[1;33m \u001b[0md\u001b[0m\u001b[1;33m.\u001b[0m\u001b[0mshow_so\u001b[0m\u001b[1;33m(\u001b[0m\u001b[1;33m)\u001b[0m\u001b[1;33m\u001b[0m\u001b[1;33m\u001b[0m\u001b[0m\n\u001b[0m",
      "\u001b[1;31mAttributeError\u001b[0m: 'Daughter' object has no attribute 'show_so'"
     ]
    }
   ],
   "source": [
    "#Herarchical Inheritance\n",
    "class Father:\n",
    "    def show_fa(self):\n",
    "        print(\"Father Class Method\")\n",
    "class Son(Father):\n",
    "    def show_so(self):\n",
    "        print(\"Son Class Method\")\n",
    "class Daughter(Father):\n",
    "    def show_da(self):\n",
    "        print(\"Daughter Class Method\")\n",
    "d=Daughter()\n",
    "d.show_da()\n",
    "d.show_so()"
   ]
  },
  {
   "cell_type": "code",
   "execution_count": 3,
   "metadata": {},
   "outputs": [
    {
     "name": "stdout",
     "output_type": "stream",
     "text": [
      "Daughter Class Method\n",
      "Father Class Method\n"
     ]
    }
   ],
   "source": [
    "#Herarchical Inheritance\n",
    "class Father:\n",
    "    def show_fa(self):\n",
    "        print(\"Father Class Method\")\n",
    "class Son(Father):\n",
    "    def show_so(self):\n",
    "        print(\"Son Class Method\")\n",
    "class Daughter(Father):\n",
    "    def show_da(self):\n",
    "        print(\"Daughter Class Method\")\n",
    "d=Daughter()\n",
    "d.show_da()\n",
    "d.show_fa()"
   ]
  },
  {
   "cell_type": "code",
   "execution_count": 4,
   "metadata": {},
   "outputs": [
    {
     "name": "stdout",
     "output_type": "stream",
     "text": [
      "Son Class Constructor\n"
     ]
    }
   ],
   "source": [
    "#Herarchical Inheritance\n",
    "class Father:\n",
    "    def __init__(self):\n",
    "        print(\"Father Class Constructor\")\n",
    "    def show_fa(self):\n",
    "        print(\"Father Class Method\")\n",
    "class Son(Father):\n",
    "    def __init__(self):\n",
    "        print(\"Son Class Constructor\")\n",
    "    def show_so(self):\n",
    "        print(\"Son Class Method\")\n",
    "class Daughter(Father):\n",
    "    def __init__(self):\n",
    "        print(\"Daughter Class Constructor\")\n",
    "    def show_da(self):\n",
    "        print(\"Daughter Class Method\")\n",
    "s=Son()"
   ]
  },
  {
   "cell_type": "code",
   "execution_count": 8,
   "metadata": {},
   "outputs": [
    {
     "name": "stdout",
     "output_type": "stream",
     "text": [
      "Daughter Class Constructor\n"
     ]
    }
   ],
   "source": [
    "#Herarchical Inheritance\n",
    "class Father:\n",
    "    def __init__(self):\n",
    "        print(\"Father Class Constructor\")\n",
    "    def show_fa(self):\n",
    "        print(\"Father Class Method\")\n",
    "class Son(Father):\n",
    "    def __init__(self):\n",
    "        print(\"Son Class Constructor\")\n",
    "    def show_so(self):\n",
    "        print(\"Son Class Method\")\n",
    "class Daughter(Father):\n",
    "    def __init__(self):\n",
    "        print(\"Daughter Class Constructor\")\n",
    "    def show_da(self):\n",
    "        print(\"Daughter Class Method\")\n",
    "d=Daughter()"
   ]
  },
  {
   "cell_type": "code",
   "execution_count": 9,
   "metadata": {},
   "outputs": [
    {
     "name": "stdout",
     "output_type": "stream",
     "text": [
      "Father Class Constructor\n",
      "Son Class Constructor\n"
     ]
    }
   ],
   "source": [
    " #Herarchical Inheritance\n",
    "class Father:\n",
    "    def __init__(self):\n",
    "        print(\"Father Class Constructor\")\n",
    "    def show_fa(self):\n",
    "        print(\"Father Class Method\")\n",
    "class Son(Father):\n",
    "    def __init__(self):\n",
    "        super().__init__() # calling parent class cons.\n",
    "        print(\"Son Class Constructor\")\n",
    "    def show_so(self):\n",
    "        print(\"Son Class Method\")\n",
    "class Daughter(Father):\n",
    "    def __init__(self):\n",
    "        print(\"Daughter Class Constructor\")\n",
    "    def show_da(self):\n",
    "        print(\"Daughter Class Method\")\n",
    "s=Son()"
   ]
  },
  {
   "cell_type": "code",
   "execution_count": 10,
   "metadata": {},
   "outputs": [
    {
     "name": "stdout",
     "output_type": "stream",
     "text": [
      "Father Class Constructor\n",
      "Daughter Class Constructor\n"
     ]
    }
   ],
   "source": [
    " #Herarchical Inheritance\n",
    "class Father:\n",
    "    def __init__(self):\n",
    "        print(\"Father Class Constructor\")\n",
    "    def show_fa(self):\n",
    "        print(\"Father Class Method\")\n",
    "class Son(Father):\n",
    "    def __init__(self):\n",
    "        super().__init__() # calling parent class cons.\n",
    "        print(\"Son Class Constructor\")\n",
    "    def show_so(self):\n",
    "        print(\"Son Class Method\")\n",
    "class Daughter(Father):\n",
    "    def __init__(self):\n",
    "        super().__init__() # calling parent class cons.\n",
    "        print(\"Daughter Class Constructor\")\n",
    "    def show_da(self):\n",
    "        print(\"Daughter Class Method\")\n",
    "d=Daughter()"
   ]
  },
  {
   "cell_type": "code",
   "execution_count": 11,
   "metadata": {},
   "outputs": [
    {
     "name": "stdout",
     "output_type": "stream",
     "text": [
      "Father Class Constructor\n",
      "Son Class Constructor\n",
      "Father Class Constructor\n",
      "Daughter Class Constructor\n"
     ]
    }
   ],
   "source": [
    " #Herarchical Inheritance\n",
    "class Father:\n",
    "    def __init__(self):\n",
    "        print(\"Father Class Constructor\")\n",
    "    def show_fa(self):\n",
    "        print(\"Father Class Method\")\n",
    "class Son(Father):\n",
    "    def __init__(self):\n",
    "        super().__init__() # calling parent class cons.\n",
    "        print(\"Son Class Constructor\")\n",
    "    def show_so(self):\n",
    "        print(\"Son Class Method\")\n",
    "class Daughter(Father):\n",
    "    def __init__(self):\n",
    "        super().__init__() # calling parent class cons.\n",
    "        print(\"Daughter Class Constructor\")\n",
    "    def show_da(self):\n",
    "        print(\"Daughter Class Method\")\n",
    "s=Son()\n",
    "d=Daughter()"
   ]
  },
  {
   "cell_type": "code",
   "execution_count": 12,
   "metadata": {},
   "outputs": [
    {
     "name": "stdout",
     "output_type": "stream",
     "text": [
      "Father Class Constructor\n",
      "Son Class Constructor\n",
      "Son Class Method\n",
      "Father Class Method\n",
      "Father Class Constructor\n",
      "Daughter Class Constructor\n",
      "Daughter Class Method\n",
      "Father Class Method\n"
     ]
    }
   ],
   "source": [
    " #Herarchical Inheritance\n",
    "class Father:\n",
    "    def __init__(self):\n",
    "        print(\"Father Class Constructor\")\n",
    "    def show_fa(self):\n",
    "        print(\"Father Class Method\")\n",
    "class Son(Father):\n",
    "    def __init__(self):\n",
    "        super().__init__() # calling parent class cons.\n",
    "        print(\"Son Class Constructor\")\n",
    "    def show_so(self):\n",
    "        print(\"Son Class Method\")\n",
    "class Daughter(Father):\n",
    "    def __init__(self):\n",
    "        super().__init__() # calling parent class cons.\n",
    "        print(\"Daughter Class Constructor\")\n",
    "    def show_da(self):\n",
    "        print(\"Daughter Class Method\")\n",
    "s=Son()\n",
    "s.show_so()\n",
    "s.show_fa()\n",
    "d=Daughter()\n",
    "d.show_da()\n",
    "d.show_fa()"
   ]
  },
  {
   "cell_type": "code",
   "execution_count": null,
   "metadata": {},
   "outputs": [],
   "source": []
  }
 ],
 "metadata": {
  "kernelspec": {
   "display_name": "Python 3",
   "language": "python",
   "name": "python3"
  },
  "language_info": {
   "codemirror_mode": {
    "name": "ipython",
    "version": 3
   },
   "file_extension": ".py",
   "mimetype": "text/x-python",
   "name": "python",
   "nbconvert_exporter": "python",
   "pygments_lexer": "ipython3",
   "version": "3.8.5"
  }
 },
 "nbformat": 4,
 "nbformat_minor": 4
}
