{
 "cells": [
  {
   "cell_type": "code",
   "execution_count": 1,
   "metadata": {},
   "outputs": [
    {
     "name": "stdout",
     "output_type": "stream",
     "text": [
      "30\n"
     ]
    }
   ],
   "source": [
    "# Operator Overloading\n",
    "print(10+20)"
   ]
  },
  {
   "cell_type": "code",
   "execution_count": 2,
   "metadata": {},
   "outputs": [
    {
     "name": "stdout",
     "output_type": "stream",
     "text": [
      "30\n",
      "30\n"
     ]
    }
   ],
   "source": [
    "# Operator Overloading\n",
    "print(10+20)\n",
    "print(int.__add__(10,20))"
   ]
  },
  {
   "cell_type": "code",
   "execution_count": 4,
   "metadata": {},
   "outputs": [
    {
     "name": "stdout",
     "output_type": "stream",
     "text": [
      "30\n",
      "30\n"
     ]
    }
   ],
   "source": [
    "# Operator Overloading\n",
    "print(10+20)\n",
    "print(int.__add__(10,20))\n",
    "#__add__(self,other)\n",
    "#__sub__(self,other)\n",
    "#__mul__(self,other)"
   ]
  },
  {
   "cell_type": "code",
   "execution_count": 7,
   "metadata": {},
   "outputs": [
    {
     "name": "stdout",
     "output_type": "stream",
     "text": [
      "PythonProgramming\n",
      "PythonProgramming\n"
     ]
    }
   ],
   "source": [
    "# Operator Overloading\n",
    "print(\"Python\"+\"Programming\")\n",
    "print(str.__add__(\"Python\",\"Programming\"))"
   ]
  },
  {
   "cell_type": "code",
   "execution_count": 14,
   "metadata": {},
   "outputs": [
    {
     "ename": "TypeError",
     "evalue": "unsupported operand type(s) for +: 'X_class' and 'Y_class'",
     "output_type": "error",
     "traceback": [
      "\u001b[1;31m---------------------------------------------------------------------------\u001b[0m",
      "\u001b[1;31mTypeError\u001b[0m                                 Traceback (most recent call last)",
      "\u001b[1;32m<ipython-input-14-4b3de4538750>\u001b[0m in \u001b[0;36m<module>\u001b[1;34m\u001b[0m\n\u001b[0;32m      7\u001b[0m \u001b[0mx_obj\u001b[0m\u001b[1;33m=\u001b[0m\u001b[0mX_class\u001b[0m\u001b[1;33m(\u001b[0m\u001b[1;36m500\u001b[0m\u001b[1;33m)\u001b[0m\u001b[1;33m\u001b[0m\u001b[1;33m\u001b[0m\u001b[0m\n\u001b[0;32m      8\u001b[0m \u001b[0my_obj\u001b[0m\u001b[1;33m=\u001b[0m\u001b[0mY_class\u001b[0m\u001b[1;33m(\u001b[0m\u001b[1;36m500\u001b[0m\u001b[1;33m)\u001b[0m\u001b[1;33m\u001b[0m\u001b[1;33m\u001b[0m\u001b[0m\n\u001b[1;32m----> 9\u001b[1;33m \u001b[0mprint\u001b[0m\u001b[1;33m(\u001b[0m\u001b[0mx_obj\u001b[0m\u001b[1;33m+\u001b[0m\u001b[0my_obj\u001b[0m\u001b[1;33m)\u001b[0m \u001b[1;31m#X_class.add(self,other)\u001b[0m\u001b[1;33m\u001b[0m\u001b[1;33m\u001b[0m\u001b[0m\n\u001b[0m",
      "\u001b[1;31mTypeError\u001b[0m: unsupported operand type(s) for +: 'X_class' and 'Y_class'"
     ]
    }
   ],
   "source": [
    "class X_class:\n",
    "    def __init__(self,x):\n",
    "        self.x=x\n",
    "class Y_class:\n",
    "    def __init__(self,x):\n",
    "        self.x=x\n",
    "x_obj=X_class(500)\n",
    "y_obj=Y_class(500)\n",
    "print(x_obj+y_obj) #X_class.add__(self,other)"
   ]
  },
  {
   "cell_type": "code",
   "execution_count": 15,
   "metadata": {},
   "outputs": [
    {
     "name": "stdout",
     "output_type": "stream",
     "text": [
      "1000\n"
     ]
    }
   ],
   "source": [
    "class X_class:\n",
    "    def __init__(self,x):\n",
    "        self.x=x\n",
    "    def __add__(self,other):\n",
    "        return self.x+other.x\n",
    "class Y_class:\n",
    "    def __init__(self,x):\n",
    "        self.x=x\n",
    "x_obj=X_class(500)\n",
    "y_obj=Y_class(500)\n",
    "print(x_obj+y_obj) #X_class.add__(self,other)"
   ]
  },
  {
   "cell_type": "code",
   "execution_count": 22,
   "metadata": {},
   "outputs": [
    {
     "name": "stdout",
     "output_type": "stream",
     "text": [
      "1000\n"
     ]
    },
    {
     "data": {
      "text/plain": [
       "30"
      ]
     },
     "execution_count": 22,
     "metadata": {},
     "output_type": "execute_result"
    }
   ],
   "source": [
    "class X_class:\n",
    "    def __init__(self,x):\n",
    "        self.x=x\n",
    "    def __add__(self,other):\n",
    "        return self.x+other.x\n",
    "class Y_class:\n",
    "    def __init__(self,x):\n",
    "        self.x=x\n",
    "x_obj=X_class(500)\n",
    "y_obj=Y_class(500)\n",
    "print(x_obj+y_obj) #X_class.add__(self,other)\n",
    "10+20 #int.__add__(10,20)"
   ]
  },
  {
   "cell_type": "code",
   "execution_count": 28,
   "metadata": {},
   "outputs": [
    {
     "name": "stdout",
     "output_type": "stream",
     "text": [
      "1000\n",
      "PythonProgramming\n"
     ]
    },
    {
     "data": {
      "text/plain": [
       "1000"
      ]
     },
     "execution_count": 28,
     "metadata": {},
     "output_type": "execute_result"
    }
   ],
   "source": [
    "class X_class:\n",
    "    def __init__(self,x):\n",
    "        self.x=x\n",
    "    def __add__(self,other):\n",
    "        return self.x+other.x\n",
    "class Y_class:\n",
    "    def __init__(self,x):\n",
    "        self.x=x\n",
    "x_obj=X_class(500)\n",
    "y_obj=Y_class(500)\n",
    "print(x_obj+y_obj) #X_class.add__(self,other)\n",
    "10+20           #int.__add__(10,20)\n",
    "print(\"Python\"+\"Programming\")  #str.__add__(\"Python\",\"Programming\")\n",
    "x_obj+y_obj  #X_class.add__(x_obj,y_obj)"
   ]
  },
  {
   "cell_type": "code",
   "execution_count": null,
   "metadata": {},
   "outputs": [],
   "source": []
  }
 ],
 "metadata": {
  "kernelspec": {
   "display_name": "Python 3",
   "language": "python",
   "name": "python3"
  },
  "language_info": {
   "codemirror_mode": {
    "name": "ipython",
    "version": 3
   },
   "file_extension": ".py",
   "mimetype": "text/x-python",
   "name": "python",
   "nbconvert_exporter": "python",
   "pygments_lexer": "ipython3",
   "version": "3.8.5"
  }
 },
 "nbformat": 4,
 "nbformat_minor": 4
}
