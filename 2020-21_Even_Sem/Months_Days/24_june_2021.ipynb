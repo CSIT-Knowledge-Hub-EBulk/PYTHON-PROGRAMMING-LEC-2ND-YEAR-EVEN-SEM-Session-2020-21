{
 "cells": [
  {
   "cell_type": "code",
   "execution_count": 1,
   "metadata": {},
   "outputs": [
    {
     "name": "stdout",
     "output_type": "stream",
     "text": [
      "Constructor\n"
     ]
    }
   ],
   "source": [
    "# Constructor\n",
    "class Mobile:\n",
    "    def __init__(self):\n",
    "        print(\"Constructor\")\n",
    "realme=Mobile()\n",
    "    "
   ]
  },
  {
   "cell_type": "code",
   "execution_count": 2,
   "metadata": {},
   "outputs": [
    {
     "name": "stdout",
     "output_type": "stream",
     "text": [
      "mobile=  RealMe-X\n"
     ]
    }
   ],
   "source": [
    " # Constructor without parameter\n",
    "class Mobile:\n",
    "    def __init__(self):\n",
    "        self.model=\"RealMe-X\"\n",
    "    def show_model(self):\n",
    "        print(\"mobile= \",self.model)\n",
    "realme=Mobile()\n",
    "realme.show_model()"
   ]
  },
  {
   "cell_type": "code",
   "execution_count": 4,
   "metadata": {},
   "outputs": [
    {
     "name": "stdout",
     "output_type": "stream",
     "text": [
      "mobile=  realme-x volumn=  40 price=  20000\n"
     ]
    }
   ],
   "source": [
    "# Constructor with parameter\n",
    "class Mobile:\n",
    "    def __init__(self,m,v=80):\n",
    "        self.model=m\n",
    "        self.volumn=v\n",
    "    def show_model(self,p):\n",
    "        price=p\n",
    "        print(\"mobile= \",self.model,\"volumn= \",self.volumn,\"price= \",price)\n",
    "realme=Mobile(\"realme-x\",40)\n",
    "realme.show_model(20000)"
   ]
  },
  {
   "cell_type": "code",
   "execution_count": 5,
   "metadata": {},
   "outputs": [
    {
     "name": "stdout",
     "output_type": "stream",
     "text": [
      "mobile=  realme-x volumn=  80 price=  20000\n"
     ]
    }
   ],
   "source": [
    "# Constructor with parameter\n",
    "class Mobile:\n",
    "    def __init__(self,m,v=80):\n",
    "        self.model=m\n",
    "        self.volumn=v\n",
    "    def show_model(self,p):\n",
    "        price=p\n",
    "        print(\"mobile= \",self.model,\"volumn= \",self.volumn,\"price= \",price)\n",
    "realme=Mobile(\"realme-x\")\n",
    "realme.show_model(20000)"
   ]
  },
  {
   "cell_type": "code",
   "execution_count": 7,
   "metadata": {},
   "outputs": [
    {
     "name": "stdout",
     "output_type": "stream",
     "text": [
      "mobile=  realme-x volumn=  80 price=  20000\n",
      "mobile=  realme-y volumn=  55 price=  25000\n"
     ]
    }
   ],
   "source": [
    "# Constructor with parameter\n",
    "class Mobile:\n",
    "    def __init__(self,m,v=80):\n",
    "        self.model=m\n",
    "        self.volumn=v\n",
    "    def show_model(self,p):\n",
    "        price=p\n",
    "        print(\"mobile= \",self.model,\"volumn= \",self.volumn,\"price= \",price)\n",
    "realme=Mobile(\"realme-x\")\n",
    "realme.show_model(20000)\n",
    "realpro=Mobile(\"realme-y\",55)\n",
    "realpro.show_model(25000)"
   ]
  },
  {
   "cell_type": "code",
   "execution_count": null,
   "metadata": {},
   "outputs": [],
   "source": []
  }
 ],
 "metadata": {
  "kernelspec": {
   "display_name": "Python 3",
   "language": "python",
   "name": "python3"
  },
  "language_info": {
   "codemirror_mode": {
    "name": "ipython",
    "version": 3
   },
   "file_extension": ".py",
   "mimetype": "text/x-python",
   "name": "python",
   "nbconvert_exporter": "python",
   "pygments_lexer": "ipython3",
   "version": "3.8.5"
  }
 },
 "nbformat": 4,
 "nbformat_minor": 4
}
