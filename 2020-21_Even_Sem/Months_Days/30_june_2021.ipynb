{
 "cells": [
  {
   "cell_type": "code",
   "execution_count": 1,
   "metadata": {},
   "outputs": [
    {
     "name": "stdout",
     "output_type": "stream",
     "text": [
      "Realme-X\n"
     ]
    }
   ],
   "source": [
    "# Static Method without parameter\n",
    "class Mobile:\n",
    "    @staticmethod\n",
    "    def show_model():\n",
    "        print(\"Realme-X\")\n",
    "realme=Mobile()\n",
    "Mobile.show_model()"
   ]
  },
  {
   "cell_type": "code",
   "execution_count": 2,
   "metadata": {},
   "outputs": [
    {
     "name": "stdout",
     "output_type": "stream",
     "text": [
      "Fingerprint YES\n"
     ]
    }
   ],
   "source": [
    "# Static Method without parameter\n",
    "class Mobile:\n",
    "    fp=\"YES\"\n",
    "    @staticmethod\n",
    "    def show_model():\n",
    "        print(\"Fingerprint\",Mobile.fp)\n",
    "realme=Mobile()\n",
    "Mobile.show_model()"
   ]
  },
  {
   "cell_type": "code",
   "execution_count": 7,
   "metadata": {},
   "outputs": [
    {
     "name": "stdout",
     "output_type": "stream",
     "text": [
      "Model=  Realme-X Price=  20000\n"
     ]
    }
   ],
   "source": [
    "# Static Method with parameter\n",
    "class Mobile:\n",
    "    fp=\"YES\"\n",
    "    @staticmethod\n",
    "    def show_model(m,r=10000):\n",
    "        model=m\n",
    "        rate=r\n",
    "        print(\"Model= \",model,\"Price= \",rate)\n",
    "realme=Mobile()\n",
    "Mobile.show_model(\"Realme-X\",20000)"
   ]
  },
  {
   "cell_type": "code",
   "execution_count": null,
   "metadata": {},
   "outputs": [],
   "source": []
  }
 ],
 "metadata": {
  "kernelspec": {
   "display_name": "Python 3",
   "language": "python",
   "name": "python3"
  },
  "language_info": {
   "codemirror_mode": {
    "name": "ipython",
    "version": 3
   },
   "file_extension": ".py",
   "mimetype": "text/x-python",
   "name": "python",
   "nbconvert_exporter": "python",
   "pygments_lexer": "ipython3",
   "version": "3.8.5"
  }
 },
 "nbformat": 4,
 "nbformat_minor": 4
}
