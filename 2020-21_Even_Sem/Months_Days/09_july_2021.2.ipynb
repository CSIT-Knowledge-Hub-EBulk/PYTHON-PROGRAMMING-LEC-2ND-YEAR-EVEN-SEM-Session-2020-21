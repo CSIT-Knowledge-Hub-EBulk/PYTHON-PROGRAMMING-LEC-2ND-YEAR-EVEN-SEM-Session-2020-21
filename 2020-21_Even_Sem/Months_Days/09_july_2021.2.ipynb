{
 "cells": [
  {
   "cell_type": "code",
   "execution_count": 2,
   "metadata": {},
   "outputs": [
    {
     "name": "stdout",
     "output_type": "stream",
     "text": [
      "Son Class Constructor\n"
     ]
    }
   ],
   "source": [
    "# Constructor with Super Method\n",
    "class Father:\n",
    "    def __init__(self):\n",
    "        print(\"Father Class Constructor\")\n",
    "    def show(self):\n",
    "        print(\"Father Class Instance Method\")\n",
    "class Son(Father):\n",
    "    def __init__(self):\n",
    "        print(\"Son Class Constructor\")\n",
    "    def disp(self):\n",
    "        print(\"Son Class Instance Method\")\n",
    "s=Son()     "
   ]
  },
  {
   "cell_type": "code",
   "execution_count": 4,
   "metadata": {},
   "outputs": [
    {
     "name": "stdout",
     "output_type": "stream",
     "text": [
      "Father Class Constructor\n",
      "Son Class Constructor\n"
     ]
    }
   ],
   "source": [
    "# Constructor with Super Method\n",
    "class Father(object):\n",
    "    def __init__(self):\n",
    "        print(\"Father Class Constructor\")\n",
    "    def show(self):\n",
    "        print(\"Father Class Instance Method\")\n",
    "class Son(Father):\n",
    "    def __init__(self):\n",
    "        super().__init__() # calling parent class cons.\n",
    "        print(\"Son Class Constructor\")\n",
    "    def disp(self):\n",
    "        print(\"Son Class Instance Method\")\n",
    "s=Son()"
   ]
  },
  {
   "cell_type": "code",
   "execution_count": 7,
   "metadata": {},
   "outputs": [
    {
     "name": "stdout",
     "output_type": "stream",
     "text": [
      "Father Class Constructor\n",
      "Son Class Constructor\n",
      "Son Class Instance Method\n"
     ]
    }
   ],
   "source": [
    "# Constructor with Super Method\n",
    "class Father:\n",
    "    def __init__(self):\n",
    "        print(\"Father Class Constructor\")\n",
    "    def show(self):\n",
    "        print(\"Father Class Instance Method\")\n",
    "class Son(Father):\n",
    "    def __init__(self):\n",
    "        super().__init__() # calling parent class cons.\n",
    "        print(\"Son Class Constructor\")\n",
    "    def disp(self):\n",
    "        print(\"Son Class Instance Method\")\n",
    "s=Son()\n",
    "s.disp()"
   ]
  },
  {
   "cell_type": "code",
   "execution_count": 10,
   "metadata": {},
   "outputs": [
    {
     "name": "stdout",
     "output_type": "stream",
     "text": [
      "Father Class Constructor\n",
      "Son Class Constructor\n",
      "Son Class Instance Method 1000\n"
     ]
    }
   ],
   "source": [
    "# Constructor with Super Method\n",
    "class Father:\n",
    "    def __init__(self):\n",
    "        self.money=1000\n",
    "        print(\"Father Class Constructor\")\n",
    "    def show(self):\n",
    "        print(\"Father Class Instance Method\")\n",
    "class Son(Father):\n",
    "    def __init__(self):\n",
    "        super().__init__() # calling parent class cons.\n",
    "        print(\"Son Class Constructor\")\n",
    "    def disp(self):\n",
    "        print(\"Son Class Instance Method\",self.money)\n",
    "s=Son()\n",
    "s.disp()"
   ]
  },
  {
   "cell_type": "code",
   "execution_count": 5,
   "metadata": {},
   "outputs": [
    {
     "name": "stdout",
     "output_type": "stream",
     "text": [
      "Father Class Constructor\n",
      "Son Class Constructor\n",
      "Son Class Instance Method 1000\n"
     ]
    }
   ],
   "source": [
    "# Constructor with Super Method with prameter\n",
    "class Father:\n",
    "    def __init__(self,m):\n",
    "        self.money=m\n",
    "        print(\"Father Class Constructor\")\n",
    "    def show(self):\n",
    "        print(\"Father Class Instance Method\")\n",
    "class Son(Father):\n",
    "    def __init__(self,m):\n",
    "        super().__init__(m) # calling parent class cons.\n",
    "        print(\"Son Class Constructor\")\n",
    "    def disp(self):\n",
    "        print(\"Son Class Instance Method\",self.money)\n",
    "s=Son(1000)\n",
    "s.disp()"
   ]
  },
  {
   "cell_type": "code",
   "execution_count": 15,
   "metadata": {},
   "outputs": [
    {
     "name": "stdout",
     "output_type": "stream",
     "text": [
      "Father Class Constructor\n",
      "Son Class Constructor\n",
      "Son Class Instance Method 1000\n",
      "Son Class Instance Method s/w engineer\n"
     ]
    }
   ],
   "source": [
    "# Constructor with Super Method with prameter\n",
    "class Father:\n",
    "    def __init__(self,m):\n",
    "        self.money=m\n",
    "        print(\"Father Class Constructor\")\n",
    "    def show(self):\n",
    "        print(\"Father Class Instance Method\")\n",
    "class Son(Father):\n",
    "    def __init__(self,m,j):\n",
    "        super().__init__(m) # calling parent class cons.\n",
    "        self.job=j\n",
    "        print(\"Son Class Constructor\")\n",
    "    def disp(self):\n",
    "        print(\"Son Class Instance Method\",self.money)\n",
    "        print(\"Son Class Instance Method\",self.job)\n",
    "s=Son(1000,\"s/w engineer\")\n",
    "s.disp()"
   ]
  },
  {
   "cell_type": "code",
   "execution_count": null,
   "metadata": {},
   "outputs": [],
   "source": []
  }
 ],
 "metadata": {
  "kernelspec": {
   "display_name": "Python 3",
   "language": "python",
   "name": "python3"
  },
  "language_info": {
   "codemirror_mode": {
    "name": "ipython",
    "version": 3
   },
   "file_extension": ".py",
   "mimetype": "text/x-python",
   "name": "python",
   "nbconvert_exporter": "python",
   "pygments_lexer": "ipython3",
   "version": "3.8.5"
  }
 },
 "nbformat": 4,
 "nbformat_minor": 4
}
