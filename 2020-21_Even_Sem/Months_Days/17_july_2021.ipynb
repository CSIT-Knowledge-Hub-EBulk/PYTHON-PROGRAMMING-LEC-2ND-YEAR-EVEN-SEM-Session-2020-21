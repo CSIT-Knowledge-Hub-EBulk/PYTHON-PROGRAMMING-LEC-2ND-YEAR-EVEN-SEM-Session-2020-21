{
 "cells": [
  {
   "cell_type": "code",
   "execution_count": 1,
   "metadata": {},
   "outputs": [
    {
     "name": "stdout",
     "output_type": "stream",
     "text": [
      "Child Class\n",
      "Defining Abstract Method\n"
     ]
    }
   ],
   "source": [
    "from abc import ABC, abstractmethod\n",
    "class Father(ABC):\n",
    "\n",
    "\t@abstractmethod\t\t\t\t\t\n",
    "\tdef disp(self):\t\t\t\t\t# Abstract Method\n",
    "\t\tpass\n",
    "\t\t\n",
    "#my = Father()\t\t\t\t\t\t# Not possible to create object of a abstract class\n",
    "\n",
    "class Child(Father):\n",
    "\tdef disp(self):\n",
    "\t\tprint(\"Child Class\")\n",
    "\t\tprint(\"Defining Abstract Method\")\n",
    "\t\t\n",
    "\n",
    "c = Child()\n",
    "c.disp()"
   ]
  },
  {
   "cell_type": "code",
   "execution_count": 2,
   "metadata": {},
   "outputs": [
    {
     "name": "stdout",
     "output_type": "stream",
     "text": [
      "Child Class\n",
      "Disp 1 Abstract Method\n",
      "GrandChild Class\n",
      "Disp 2 Abstract Method\n"
     ]
    }
   ],
   "source": [
    "from abc import ABC, abstractmethod\n",
    "\n",
    "class Father(ABC):\n",
    "\t@abstractmethod\n",
    "\tdef disp1(self):\n",
    "\t\tpass\n",
    "\t@abstractmethod\n",
    "\tdef disp2(self):\n",
    "\t\tpass\n",
    "\n",
    "class Child(Father):\n",
    "\tdef disp1(self):\n",
    "\t\tprint(\"Child Class\")\n",
    "\t\tprint(\"Disp 1 Abstract Method\")\n",
    "\t\t\n",
    "class Granchild(Child):\n",
    "\tdef disp2(self):\n",
    "\t\tprint(\"GrandChild Class\")\n",
    "\t\tprint(\"Disp 2 Abstract Method\")\t\t\n",
    "\t\t\n",
    "gc = Granchild()\n",
    "gc.disp1()\n",
    "gc.disp2()"
   ]
  },
  {
   "cell_type": "code",
   "execution_count": null,
   "metadata": {},
   "outputs": [],
   "source": []
  }
 ],
 "metadata": {
  "kernelspec": {
   "display_name": "Python 3",
   "language": "python",
   "name": "python3"
  },
  "language_info": {
   "codemirror_mode": {
    "name": "ipython",
    "version": 3
   },
   "file_extension": ".py",
   "mimetype": "text/x-python",
   "name": "python",
   "nbconvert_exporter": "python",
   "pygments_lexer": "ipython3",
   "version": "3.8.5"
  }
 },
 "nbformat": 4,
 "nbformat_minor": 4
}
