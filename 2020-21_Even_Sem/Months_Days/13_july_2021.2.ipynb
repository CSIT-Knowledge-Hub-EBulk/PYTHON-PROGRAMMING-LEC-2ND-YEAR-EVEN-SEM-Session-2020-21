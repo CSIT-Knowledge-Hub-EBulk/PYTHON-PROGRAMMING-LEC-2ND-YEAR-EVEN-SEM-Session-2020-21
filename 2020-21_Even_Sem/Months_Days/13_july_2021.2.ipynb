{
 "cells": [
  {
   "cell_type": "code",
   "execution_count": 1,
   "metadata": {},
   "outputs": [
    {
     "name": "stdout",
     "output_type": "stream",
     "text": [
      "QUACK QUACK\n",
      "NEIGH NEIGH\n"
     ]
    }
   ],
   "source": [
    "# Strong Typing\n",
    "class Duck:\n",
    "    def walk(self):\n",
    "        print(\"QUACK QUACK\")\n",
    "class Horse:\n",
    "    def walk(self):\n",
    "        print(\"NEIGH NEIGH\")\n",
    "class Cat():\n",
    "    def talk(self):\n",
    "        print(\"MEOW MEOW\")\n",
    "def animal(obj):\n",
    "    obj.walk()\n",
    "d=Duck()\n",
    "animal(d)\n",
    "h=Horse()\n",
    "animal(h)"
   ]
  },
  {
   "cell_type": "code",
   "execution_count": 2,
   "metadata": {},
   "outputs": [
    {
     "name": "stdout",
     "output_type": "stream",
     "text": [
      "QUACK QUACK\n",
      "NEIGH NEIGH\n"
     ]
    },
    {
     "ename": "AttributeError",
     "evalue": "'Cat' object has no attribute 'walk'",
     "output_type": "error",
     "traceback": [
      "\u001b[1;31m---------------------------------------------------------------------------\u001b[0m",
      "\u001b[1;31mAttributeError\u001b[0m                            Traceback (most recent call last)",
      "\u001b[1;32m<ipython-input-2-47fdde369651>\u001b[0m in \u001b[0;36m<module>\u001b[1;34m\u001b[0m\n\u001b[0;32m     16\u001b[0m \u001b[0manimal\u001b[0m\u001b[1;33m(\u001b[0m\u001b[0mh\u001b[0m\u001b[1;33m)\u001b[0m\u001b[1;33m\u001b[0m\u001b[1;33m\u001b[0m\u001b[0m\n\u001b[0;32m     17\u001b[0m \u001b[0mc\u001b[0m\u001b[1;33m=\u001b[0m\u001b[0mCat\u001b[0m\u001b[1;33m(\u001b[0m\u001b[1;33m)\u001b[0m\u001b[1;33m\u001b[0m\u001b[1;33m\u001b[0m\u001b[0m\n\u001b[1;32m---> 18\u001b[1;33m \u001b[0manimal\u001b[0m\u001b[1;33m(\u001b[0m\u001b[0mc\u001b[0m\u001b[1;33m)\u001b[0m\u001b[1;33m\u001b[0m\u001b[1;33m\u001b[0m\u001b[0m\n\u001b[0m",
      "\u001b[1;32m<ipython-input-2-47fdde369651>\u001b[0m in \u001b[0;36manimal\u001b[1;34m(obj)\u001b[0m\n\u001b[0;32m     10\u001b[0m         \u001b[0mprint\u001b[0m\u001b[1;33m(\u001b[0m\u001b[1;34m\"MEOW MEOW\"\u001b[0m\u001b[1;33m)\u001b[0m\u001b[1;33m\u001b[0m\u001b[1;33m\u001b[0m\u001b[0m\n\u001b[0;32m     11\u001b[0m \u001b[1;32mdef\u001b[0m \u001b[0manimal\u001b[0m\u001b[1;33m(\u001b[0m\u001b[0mobj\u001b[0m\u001b[1;33m)\u001b[0m\u001b[1;33m:\u001b[0m\u001b[1;33m\u001b[0m\u001b[1;33m\u001b[0m\u001b[0m\n\u001b[1;32m---> 12\u001b[1;33m     \u001b[0mobj\u001b[0m\u001b[1;33m.\u001b[0m\u001b[0mwalk\u001b[0m\u001b[1;33m(\u001b[0m\u001b[1;33m)\u001b[0m\u001b[1;33m\u001b[0m\u001b[1;33m\u001b[0m\u001b[0m\n\u001b[0m\u001b[0;32m     13\u001b[0m \u001b[0md\u001b[0m\u001b[1;33m=\u001b[0m\u001b[0mDuck\u001b[0m\u001b[1;33m(\u001b[0m\u001b[1;33m)\u001b[0m\u001b[1;33m\u001b[0m\u001b[1;33m\u001b[0m\u001b[0m\n\u001b[0;32m     14\u001b[0m \u001b[0manimal\u001b[0m\u001b[1;33m(\u001b[0m\u001b[0md\u001b[0m\u001b[1;33m)\u001b[0m\u001b[1;33m\u001b[0m\u001b[1;33m\u001b[0m\u001b[0m\n",
      "\u001b[1;31mAttributeError\u001b[0m: 'Cat' object has no attribute 'walk'"
     ]
    }
   ],
   "source": [
    "# Strong Typing\n",
    "class Duck:\n",
    "    def walk(self):\n",
    "        print(\"QUACK QUACK\")\n",
    "class Horse:\n",
    "    def walk(self):\n",
    "        print(\"NEIGH NEIGH\")\n",
    "class Cat():\n",
    "    def talk(self):\n",
    "        print(\"MEOW MEOW\")\n",
    "def animal(obj):\n",
    "    obj.walk()\n",
    "d=Duck()\n",
    "animal(d)\n",
    "h=Horse()\n",
    "animal(h)\n",
    "c=Cat()\n",
    "animal(c)"
   ]
  },
  {
   "cell_type": "code",
   "execution_count": 5,
   "metadata": {},
   "outputs": [
    {
     "name": "stdout",
     "output_type": "stream",
     "text": [
      "QUACK QUACK\n"
     ]
    }
   ],
   "source": [
    "# Strong Typing\n",
    "class Duck:\n",
    "    def walk(self):\n",
    "        print(\"QUACK QUACK\")\n",
    "class Horse:\n",
    "    def walk(self):\n",
    "        print(\"NEIGH NEIGH\")\n",
    "class Cat():\n",
    "    def talk(self):\n",
    "        print(\"MEOW MEOW\")\n",
    "def animal(obj):\n",
    "    if hasattr(obj,'walk'):\n",
    "        obj.walk()\n",
    "d=Duck()\n",
    "animal(d)"
   ]
  },
  {
   "cell_type": "code",
   "execution_count": 6,
   "metadata": {},
   "outputs": [
    {
     "name": "stdout",
     "output_type": "stream",
     "text": [
      "QUACK QUACK\n",
      "NEIGH NEIGH\n"
     ]
    }
   ],
   "source": [
    "# Strong Typing\n",
    "class Duck:\n",
    "    def walk(self):\n",
    "        print(\"QUACK QUACK\")\n",
    "class Horse:\n",
    "    def walk(self):\n",
    "        print(\"NEIGH NEIGH\")\n",
    "class Cat():\n",
    "    def talk(self):\n",
    "        print(\"MEOW MEOW\")\n",
    "def animal(obj):\n",
    "    if hasattr(obj,'walk'):\n",
    "        obj.walk()\n",
    "d=Duck()\n",
    "animal(d)\n",
    "h=Horse()\n",
    "animal(h)"
   ]
  },
  {
   "cell_type": "code",
   "execution_count": 7,
   "metadata": {},
   "outputs": [
    {
     "name": "stdout",
     "output_type": "stream",
     "text": [
      "QUACK QUACK\n",
      "NEIGH NEIGH\n"
     ]
    }
   ],
   "source": [
    "# Strong Typing\n",
    "class Duck:\n",
    "    def walk(self):\n",
    "        print(\"QUACK QUACK\")\n",
    "class Horse:\n",
    "    def walk(self):\n",
    "        print(\"NEIGH NEIGH\")\n",
    "class Cat():\n",
    "    def talk(self):\n",
    "        print(\"MEOW MEOW\")\n",
    "def animal(obj):\n",
    "    if hasattr(obj,'walk'):\n",
    "        obj.walk()\n",
    "d=Duck()\n",
    "animal(d)\n",
    "h=Horse()\n",
    "animal(h)\n",
    "c=Cat()\n",
    "animal(c)"
   ]
  },
  {
   "cell_type": "code",
   "execution_count": 9,
   "metadata": {},
   "outputs": [
    {
     "name": "stdout",
     "output_type": "stream",
     "text": [
      "QUACK QUACK\n",
      "NEIGH NEIGH\n",
      "MEOW MEOW\n"
     ]
    }
   ],
   "source": [
    "# Strong Typing\n",
    "class Duck:\n",
    "    def walk(self):\n",
    "        print(\"QUACK QUACK\")\n",
    "class Horse:\n",
    "    def walk(self):\n",
    "        print(\"NEIGH NEIGH\")\n",
    "class Cat():\n",
    "    def talk(self):\n",
    "        print(\"MEOW MEOW\")\n",
    "def animal(obj):\n",
    "    if hasattr(obj,'walk'):\n",
    "        obj.walk()\n",
    "    if hasattr(obj,'talk'):\n",
    "        obj.talk()\n",
    "d=Duck()\n",
    "animal(d)\n",
    "h=Horse()\n",
    "animal(h)\n",
    "c=Cat()\n",
    "animal(c)"
   ]
  },
  {
   "cell_type": "code",
   "execution_count": 10,
   "metadata": {},
   "outputs": [
    {
     "name": "stdout",
     "output_type": "stream",
     "text": [
      "QUACK QUACK\n",
      "NEIGH NEIGH\n",
      "MEOW MEOW\n"
     ]
    }
   ],
   "source": [
    "# Strong Typing\n",
    "class Duck:\n",
    "    def walk(self):\n",
    "        print(\"QUACK QUACK\")\n",
    "class Horse:\n",
    "    def walk(self):\n",
    "        print(\"NEIGH NEIGH\")\n",
    "class Cat():\n",
    "    def talk(self):\n",
    "        print(\"MEOW MEOW\")\n",
    "def animal(obj):\n",
    "    if hasattr(obj,'walk'):\n",
    "        obj.walk()\n",
    "    elif hasattr(obj,'talk'):\n",
    "        obj.talk()\n",
    "d=Duck()\n",
    "animal(d)\n",
    "h=Horse()\n",
    "animal(h)\n",
    "c=Cat()\n",
    "animal(c)"
   ]
  },
  {
   "cell_type": "code",
   "execution_count": null,
   "metadata": {},
   "outputs": [],
   "source": []
  },
  {
   "cell_type": "code",
   "execution_count": null,
   "metadata": {},
   "outputs": [],
   "source": []
  }
 ],
 "metadata": {
  "kernelspec": {
   "display_name": "Python 3",
   "language": "python",
   "name": "python3"
  },
  "language_info": {
   "codemirror_mode": {
    "name": "ipython",
    "version": 3
   },
   "file_extension": ".py",
   "mimetype": "text/x-python",
   "name": "python",
   "nbconvert_exporter": "python",
   "pygments_lexer": "ipython3",
   "version": "3.8.5"
  }
 },
 "nbformat": 4,
 "nbformat_minor": 4
}
