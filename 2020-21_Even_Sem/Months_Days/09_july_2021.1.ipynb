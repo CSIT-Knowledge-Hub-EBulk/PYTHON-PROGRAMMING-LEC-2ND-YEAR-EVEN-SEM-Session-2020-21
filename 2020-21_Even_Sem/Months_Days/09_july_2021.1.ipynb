{
 "cells": [
  {
   "cell_type": "code",
   "execution_count": 1,
   "metadata": {},
   "outputs": [
    {
     "name": "stdout",
     "output_type": "stream",
     "text": [
      "Father Class Constructor\n"
     ]
    }
   ],
   "source": [
    "# Constructor Overriding\n",
    "class Father:\n",
    "    def __init__(self):\n",
    "        self.money=10000\n",
    "        print(\"Father Class Constructor\")\n",
    "    def show(self):\n",
    "        print(\"Father Class Instance Method\")\n",
    "class Son(Father):\n",
    "    def disp(self):\n",
    "      print(\"Son Class Instance Method\")  \n",
    "s=Son()"
   ]
  },
  {
   "cell_type": "code",
   "execution_count": 2,
   "metadata": {},
   "outputs": [
    {
     "name": "stdout",
     "output_type": "stream",
     "text": [
      "Son Class Constructor\n"
     ]
    }
   ],
   "source": [
    "# Constructor Overriding\n",
    "class Father:\n",
    "    def __init__(self):\n",
    "        self.money=10000\n",
    "        print(\"Father Class Constructor\")\n",
    "    def show(self):\n",
    "        print(\"Father Class Instance Method\")\n",
    "class Son(Father):\n",
    "    def __init__(self):\n",
    "        self.money=5000\n",
    "        self.bussi=\"Car\"\n",
    "        print(\"Son Class Constructor\")\n",
    "    def disp(self):\n",
    "      print(\"Son Class Instance Method\")  \n",
    "s=Son()"
   ]
  },
  {
   "cell_type": "code",
   "execution_count": 11,
   "metadata": {},
   "outputs": [
    {
     "name": "stdout",
     "output_type": "stream",
     "text": [
      "Son Class Constructor\n",
      "5000\n"
     ]
    }
   ],
   "source": [
    "# Constructor Overriding\n",
    "class Father:\n",
    "    def __init__(self):\n",
    "        self.money=10000\n",
    "        print(\"Father Class Constructor\")\n",
    "    def show(self):\n",
    "        print(\"Father Class Instance Method\")\n",
    "class Son(Father):\n",
    "    def __init__(self):\n",
    "        self.money=5000\n",
    "        self.bussi=\"Car\"\n",
    "        print(\"Son Class Constructor\")\n",
    "    def disp(self):\n",
    "      print(\"Son Class Instance Method\")  \n",
    "s=Son()\n",
    "print(s.money)"
   ]
  },
  {
   "cell_type": "code",
   "execution_count": 12,
   "metadata": {},
   "outputs": [
    {
     "name": "stdout",
     "output_type": "stream",
     "text": [
      "Son Class Constructor\n",
      "5000\n",
      "Car\n"
     ]
    }
   ],
   "source": [
    "# Constructor Overriding\n",
    "class Father:\n",
    "    def __init__(self):\n",
    "        self.money=10000\n",
    "        print(\"Father Class Constructor\")\n",
    "    def show(self):\n",
    "        print(\"Father Class Instance Method\")\n",
    "class Son(Father):\n",
    "    def __init__(self):\n",
    "        self.money=5000\n",
    "        self.bussi=\"Car\"\n",
    "        print(\"Son Class Constructor\")\n",
    "    def disp(self):\n",
    "      print(\"Son Class Instance Method\")  \n",
    "s=Son()\n",
    "print(s.money)\n",
    "print(s.bussi)"
   ]
  },
  {
   "cell_type": "code",
   "execution_count": 3,
   "metadata": {},
   "outputs": [
    {
     "name": "stdout",
     "output_type": "stream",
     "text": [
      "Son Class Constructor\n",
      "5000\n",
      "Car\n",
      "Son Class Instance Method\n"
     ]
    }
   ],
   "source": [
    "# Constructor Overriding\n",
    "class Father:\n",
    "    def __init__(self):\n",
    "        self.money=10000\n",
    "        print(\"Father Class Constructor\")\n",
    "    def show(self):\n",
    "        print(\"Father Class Instance Method\")\n",
    "class Son(Father):\n",
    "    def __init__(self):\n",
    "        self.money=5000\n",
    "        self.bussi=\"Car\"\n",
    "        print(\"Son Class Constructor\")\n",
    "    def disp(self):\n",
    "      print(\"Son Class Instance Method\")  \n",
    "s=Son()\n",
    "print(s.money)\n",
    "print(s.bussi)\n",
    "s.disp()"
   ]
  },
  {
   "cell_type": "code",
   "execution_count": 6,
   "metadata": {},
   "outputs": [
    {
     "name": "stdout",
     "output_type": "stream",
     "text": [
      "Son Class Constructor\n",
      "5000\n",
      "Car\n",
      "Son Class Instance Method\n",
      "Father Class Instance Method\n"
     ]
    }
   ],
   "source": [
    "# Constructor Overriding\n",
    "class Father:\n",
    "    def __init__(self):\n",
    "        print(\"Father Class Constructor\")\n",
    "    def show(self):\n",
    "        print(\"Father Class Instance Method\")\n",
    "class Son(Father):\n",
    "    def __init__(self):\n",
    "        self.money=5000\n",
    "        self.bussi=\"Car\"\n",
    "        print(\"Son Class Constructor\")\n",
    "    def disp(self):\n",
    "      print(\"Son Class Instance Method\")  \n",
    "s=Son()\n",
    "print(s.money)\n",
    "print(s.bussi)\n",
    "s.disp()\n",
    "s.show()"
   ]
  },
  {
   "cell_type": "code",
   "execution_count": 4,
   "metadata": {},
   "outputs": [
    {
     "name": "stdout",
     "output_type": "stream",
     "text": [
      "Father Class Constructor\n",
      "Son Class Constructor\n",
      "5000\n",
      "Car\n",
      "Son Class Instance Method\n",
      "Father Class Instance Method\n"
     ]
    }
   ],
   "source": [
    "# Constructor Overriding\n",
    "class Father:\n",
    "    def __init__(self):\n",
    "        self.money=10000\n",
    "        print(\"Father Class Constructor\")\n",
    "    def show(self):\n",
    "        print(\"Father Class Instance Method\")\n",
    "class Son(Father):\n",
    "    def __init__(self):\n",
    "        self.money=5000\n",
    "        self.bussi=\"Car\"\n",
    "        print(\"Son Class Constructor\")\n",
    "    def disp(self):\n",
    "      print(\"Son Class Instance Method\")  \n",
    "f=Father()\n",
    "s=Son()\n",
    "print(s.money)\n",
    "print(s.bussi)\n",
    "s.disp()\n",
    "s.show()"
   ]
  },
  {
   "cell_type": "code",
   "execution_count": 5,
   "metadata": {},
   "outputs": [
    {
     "name": "stdout",
     "output_type": "stream",
     "text": [
      "Son Class Constructor\n",
      "20000\n"
     ]
    }
   ],
   "source": [
    "# Constructor Overriding with parameter\n",
    "class Father:\n",
    "    def __init__(self,m):\n",
    "        self.money=m\n",
    "        print(\"Father Class Constructor\")\n",
    "    def show(self):\n",
    "        print(\"Father Class Instance Method\")\n",
    "class Son(Father):\n",
    "    def __init__(self,r):\n",
    "        self.money=r\n",
    "        self.bussi=\"Car\"\n",
    "        print(\"Son Class Constructor\")\n",
    "    def disp(self):\n",
    "      print(\"Son Class Instance Method\")  \n",
    "s=Son(20000)\n",
    "print(s.money)"
   ]
  },
  {
   "cell_type": "code",
   "execution_count": 19,
   "metadata": {},
   "outputs": [
    {
     "name": "stdout",
     "output_type": "stream",
     "text": [
      "Son Class Constructor\n",
      "20000\n",
      "Car\n",
      "Son Class Instance Method\n",
      "Father Class Instance Method\n"
     ]
    }
   ],
   "source": [
    "# Constructor Overriding with parameter\n",
    "class Father:\n",
    "    def __init__(self,m):\n",
    "        self.money=m\n",
    "        print(\"Father Class Constructor\")\n",
    "    def show(self):\n",
    "        print(\"Father Class Instance Method\")\n",
    "class Son(Father):\n",
    "    def __init__(self,r):\n",
    "        self.money=r\n",
    "        self.bussi=\"Car\"\n",
    "        print(\"Son Class Constructor\")\n",
    "    def disp(self):\n",
    "      print(\"Son Class Instance Method\")  \n",
    "s=Son(20000)\n",
    "print(s.money)\n",
    "print(s.bussi)\n",
    "s.disp()\n",
    "s.show()"
   ]
  },
  {
   "cell_type": "code",
   "execution_count": null,
   "metadata": {},
   "outputs": [],
   "source": []
  }
 ],
 "metadata": {
  "kernelspec": {
   "display_name": "Python 3",
   "language": "python",
   "name": "python3"
  },
  "language_info": {
   "codemirror_mode": {
    "name": "ipython",
    "version": 3
   },
   "file_extension": ".py",
   "mimetype": "text/x-python",
   "name": "python",
   "nbconvert_exporter": "python",
   "pygments_lexer": "ipython3",
   "version": "3.8.5"
  }
 },
 "nbformat": 4,
 "nbformat_minor": 4
}
