{
 "cells": [
  {
   "cell_type": "code",
   "execution_count": 8,
   "metadata": {},
   "outputs": [
    {
     "name": "stdout",
     "output_type": "stream",
     "text": [
      "Multiplication=  200\n"
     ]
    }
   ],
   "source": [
    "# Method Overriding\n",
    "class Add:\n",
    "    def result(self,a,b):\n",
    "        print(\"Addition= \",a+b)\n",
    "class Mul(Add):\n",
    "    def result(self,a,b):\n",
    "        print(\"Multiplication= \",a*b)  # overriding the parent class method\n",
    "m=Mul()\n",
    "m.result(10,20)"
   ]
  },
  {
   "cell_type": "code",
   "execution_count": 9,
   "metadata": {},
   "outputs": [
    {
     "name": "stdout",
     "output_type": "stream",
     "text": [
      "Addition=  30\n"
     ]
    }
   ],
   "source": [
    "# Method Overriding\n",
    "class Add:\n",
    "    def result(self,a,b):\n",
    "        print(\"Addition= \",a+b)\n",
    "class Mul(Add):\n",
    "    pass\n",
    "m=Mul()\n",
    "m.result(10,20)"
   ]
  },
  {
   "cell_type": "code",
   "execution_count": 10,
   "metadata": {},
   "outputs": [
    {
     "name": "stdout",
     "output_type": "stream",
     "text": [
      "Multiplication=  200\n"
     ]
    }
   ],
   "source": [
    "# Method Overriding\n",
    "class Add:\n",
    "    def result(self,a,b):\n",
    "        print(\"Addition= \",a+b)\n",
    "class Mul(Add):\n",
    "    def result(self,a,b):\n",
    "        print(\"Multiplication= \",a*b)  # overriding the parent class method\n",
    "m=Mul()\n",
    "m.result(10,20)"
   ]
  },
  {
   "cell_type": "code",
   "execution_count": 12,
   "metadata": {},
   "outputs": [
    {
     "name": "stdout",
     "output_type": "stream",
     "text": [
      "Multiplication=  200\n",
      "Addition=  30\n"
     ]
    }
   ],
   "source": [
    "# Method Overriding\n",
    "class Add:\n",
    "    def result(self,a,b):\n",
    "        print(\"Addition= \",a+b)\n",
    "class Mul(Add):\n",
    "    def result(self,a,b):\n",
    "        print(\"Multiplication= \",a*b)  \n",
    "m=Mul()\n",
    "m.result(10,20)\n",
    "a=Add()\n",
    "a.result(10,20) # this is not a good way."
   ]
  },
  {
   "cell_type": "code",
   "execution_count": 1,
   "metadata": {},
   "outputs": [
    {
     "ename": "TypeError",
     "evalue": "result() missing 2 required positional arguments: 'a' and 'b'",
     "output_type": "error",
     "traceback": [
      "\u001b[1;31m---------------------------------------------------------------------------\u001b[0m",
      "\u001b[1;31mTypeError\u001b[0m                                 Traceback (most recent call last)",
      "\u001b[1;32m<ipython-input-1-01ef0edc897f>\u001b[0m in \u001b[0;36m<module>\u001b[1;34m\u001b[0m\n\u001b[0;32m      8\u001b[0m         \u001b[0mprint\u001b[0m\u001b[1;33m(\u001b[0m\u001b[1;34m\"Multiplication= \"\u001b[0m\u001b[1;33m,\u001b[0m\u001b[0ma\u001b[0m\u001b[1;33m*\u001b[0m\u001b[0mb\u001b[0m\u001b[1;33m)\u001b[0m\u001b[1;33m\u001b[0m\u001b[1;33m\u001b[0m\u001b[0m\n\u001b[0;32m      9\u001b[0m \u001b[0mm\u001b[0m\u001b[1;33m=\u001b[0m\u001b[0mMul\u001b[0m\u001b[1;33m(\u001b[0m\u001b[1;33m)\u001b[0m\u001b[1;33m\u001b[0m\u001b[1;33m\u001b[0m\u001b[0m\n\u001b[1;32m---> 10\u001b[1;33m \u001b[0mm\u001b[0m\u001b[1;33m.\u001b[0m\u001b[0mresult\u001b[0m\u001b[1;33m(\u001b[0m\u001b[1;36m10\u001b[0m\u001b[1;33m,\u001b[0m\u001b[1;36m20\u001b[0m\u001b[1;33m)\u001b[0m\u001b[1;33m\u001b[0m\u001b[1;33m\u001b[0m\u001b[0m\n\u001b[0m",
      "\u001b[1;32m<ipython-input-1-01ef0edc897f>\u001b[0m in \u001b[0;36mresult\u001b[1;34m(self, a, b)\u001b[0m\n\u001b[0;32m      5\u001b[0m \u001b[1;32mclass\u001b[0m \u001b[0mMul\u001b[0m\u001b[1;33m(\u001b[0m\u001b[0mAdd\u001b[0m\u001b[1;33m)\u001b[0m\u001b[1;33m:\u001b[0m\u001b[1;33m\u001b[0m\u001b[1;33m\u001b[0m\u001b[0m\n\u001b[0;32m      6\u001b[0m     \u001b[1;32mdef\u001b[0m \u001b[0mresult\u001b[0m\u001b[1;33m(\u001b[0m\u001b[0mself\u001b[0m\u001b[1;33m,\u001b[0m\u001b[0ma\u001b[0m\u001b[1;33m,\u001b[0m\u001b[0mb\u001b[0m\u001b[1;33m)\u001b[0m\u001b[1;33m:\u001b[0m\u001b[1;33m\u001b[0m\u001b[1;33m\u001b[0m\u001b[0m\n\u001b[1;32m----> 7\u001b[1;33m         \u001b[0msuper\u001b[0m\u001b[1;33m(\u001b[0m\u001b[1;33m)\u001b[0m\u001b[1;33m.\u001b[0m\u001b[0mresult\u001b[0m\u001b[1;33m(\u001b[0m\u001b[1;33m)\u001b[0m\u001b[1;33m\u001b[0m\u001b[1;33m\u001b[0m\u001b[0m\n\u001b[0m\u001b[0;32m      8\u001b[0m         \u001b[0mprint\u001b[0m\u001b[1;33m(\u001b[0m\u001b[1;34m\"Multiplication= \"\u001b[0m\u001b[1;33m,\u001b[0m\u001b[0ma\u001b[0m\u001b[1;33m*\u001b[0m\u001b[0mb\u001b[0m\u001b[1;33m)\u001b[0m\u001b[1;33m\u001b[0m\u001b[1;33m\u001b[0m\u001b[0m\n\u001b[0;32m      9\u001b[0m \u001b[0mm\u001b[0m\u001b[1;33m=\u001b[0m\u001b[0mMul\u001b[0m\u001b[1;33m(\u001b[0m\u001b[1;33m)\u001b[0m\u001b[1;33m\u001b[0m\u001b[1;33m\u001b[0m\u001b[0m\n",
      "\u001b[1;31mTypeError\u001b[0m: result() missing 2 required positional arguments: 'a' and 'b'"
     ]
    }
   ],
   "source": [
    "# Method Overriding # Super method()\n",
    "class Add:\n",
    "    def result(self,a,b):\n",
    "        print(\"Addition= \",a+b)\n",
    "class Mul(Add):\n",
    "    def result(self,a,b):\n",
    "        super().result()\n",
    "        print(\"Multiplication= \",a*b)  \n",
    "m=Mul()\n",
    "m.result(10,20)"
   ]
  },
  {
   "cell_type": "code",
   "execution_count": 17,
   "metadata": {},
   "outputs": [
    {
     "name": "stdout",
     "output_type": "stream",
     "text": [
      "Addition=  30\n",
      "Multiplication=  200\n"
     ]
    }
   ],
   "source": [
    "# Method Overriding # Super method()\n",
    "class Add:\n",
    "    def result(self,a,b):\n",
    "        print(\"Addition= \",a+b)\n",
    "class Mul(Add):\n",
    "    def result(self,a,b):\n",
    "        super().result(10,20)\n",
    "        print(\"Multiplication= \",a*b)  \n",
    "m=Mul()\n",
    "m.result(10,20)"
   ]
  },
  {
   "cell_type": "code",
   "execution_count": 2,
   "metadata": {},
   "outputs": [
    {
     "name": "stdout",
     "output_type": "stream",
     "text": [
      "Multiplication=  200\n",
      "Addition=  30\n"
     ]
    }
   ],
   "source": [
    "# Method Overriding # Super method()\n",
    "class Add:\n",
    "    def result(self,a,b):\n",
    "        print(\"Addition= \",a+b)\n",
    "class Mul(Add):\n",
    "    def result(self,a,b):\n",
    "        print(\"Multiplication= \",a*b)  \n",
    "        super().result(10,20)\n",
    "m=Mul()\n",
    "m.result(10,20)"
   ]
  },
  {
   "cell_type": "code",
   "execution_count": 20,
   "metadata": {},
   "outputs": [
    {
     "name": "stdout",
     "output_type": "stream",
     "text": [
      "Addition=  1000\n",
      "Multiplication=  200\n"
     ]
    }
   ],
   "source": [
    "# Method Overriding # Super method()\n",
    "class Add:\n",
    "    def result(self,a,b):\n",
    "        print(\"Addition= \",a+b)\n",
    "class Mul(Add):\n",
    "    def result(self,a,b):\n",
    "        super().result(500,500)\n",
    "        print(\"Multiplication= \",a*b)  \n",
    "m=Mul()\n",
    "m.result(10,20)"
   ]
  },
  {
   "cell_type": "code",
   "execution_count": null,
   "metadata": {},
   "outputs": [],
   "source": []
  }
 ],
 "metadata": {
  "kernelspec": {
   "display_name": "Python 3",
   "language": "python",
   "name": "python3"
  },
  "language_info": {
   "codemirror_mode": {
    "name": "ipython",
    "version": 3
   },
   "file_extension": ".py",
   "mimetype": "text/x-python",
   "name": "python",
   "nbconvert_exporter": "python",
   "pygments_lexer": "ipython3",
   "version": "3.8.5"
  }
 },
 "nbformat": 4,
 "nbformat_minor": 4
}
