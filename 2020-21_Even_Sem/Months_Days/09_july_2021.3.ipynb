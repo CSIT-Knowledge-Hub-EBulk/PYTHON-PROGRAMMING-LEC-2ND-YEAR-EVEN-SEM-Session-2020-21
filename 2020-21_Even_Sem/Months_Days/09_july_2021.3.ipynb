{
 "cells": [
  {
   "cell_type": "code",
   "execution_count": 2,
   "metadata": {},
   "outputs": [
    {
     "ename": "SyntaxError",
     "evalue": "unexpected EOF while parsing (<ipython-input-2-bd59cb4ee4bd>, line 2)",
     "output_type": "error",
     "traceback": [
      "\u001b[1;36m  File \u001b[1;32m\"<ipython-input-2-bd59cb4ee4bd>\"\u001b[1;36m, line \u001b[1;32m2\u001b[0m\n\u001b[1;33m    class Father(object):\u001b[0m\n\u001b[1;37m                         ^\u001b[0m\n\u001b[1;31mSyntaxError\u001b[0m\u001b[1;31m:\u001b[0m unexpected EOF while parsing\n"
     ]
    }
   ],
   "source": [
    "# Multi-Level Inheritance\n",
    "class Father(object):"
   ]
  },
  {
   "cell_type": "code",
   "execution_count": 5,
   "metadata": {},
   "outputs": [
    {
     "name": "stdout",
     "output_type": "stream",
     "text": [
      "Father Class Method\n",
      "Father Class Method\n",
      "Son Class Method\n"
     ]
    }
   ],
   "source": [
    "# Multi-Level Inheritance\n",
    "class Father(object):\n",
    "    def showF(self):\n",
    "        print(\"Father Class Method\")\n",
    "class Son(Father):\n",
    "    def showS(self):\n",
    "        print(\"Son Class Method\")\n",
    "class GrandSon(Son):\n",
    "    def showG(self):\n",
    "        print(\"Father Class Method\")\n",
    "g=GrandSon()\n",
    "g.showG()\n",
    "g.showF()\n",
    "g.showS()"
   ]
  },
  {
   "cell_type": "code",
   "execution_count": 9,
   "metadata": {},
   "outputs": [
    {
     "name": "stdout",
     "output_type": "stream",
     "text": [
      "GrandSon Class Constructor\n",
      "Father Class Method\n",
      "Father Class Method\n",
      "Son Class Method\n"
     ]
    }
   ],
   "source": [
    "# Multi-Level Inheritance\n",
    "class Father:\n",
    "    def __init__(self):\n",
    "        print(\"Father Class Constructor\")\n",
    "    def showF(self):\n",
    "        print(\"Father Class Method\")\n",
    "class Son(Father):\n",
    "    def __init__(self):\n",
    "        print(\"Son Class Constructor\")\n",
    "    def showS(self):\n",
    "        print(\"Son Class Method\")\n",
    "class GrandSon(Son):\n",
    "    def __init__(self):\n",
    "        print(\"GrandSon Class Constructor\")\n",
    "    def showG(self):\n",
    "        print(\"Father Class Method\")\n",
    "g=GrandSon()\n",
    "g.showG()\n",
    "g.showF()\n",
    "g.showS()"
   ]
  },
  {
   "cell_type": "code",
   "execution_count": 13,
   "metadata": {},
   "outputs": [
    {
     "name": "stdout",
     "output_type": "stream",
     "text": [
      "Son Class Constructor\n",
      "GrandSon Class Constructor\n"
     ]
    }
   ],
   "source": [
    "# Multi-Level Inheritance\n",
    "class Father:\n",
    "    def __init__(self):\n",
    "        print(\"Father Class Constructor\")\n",
    "    def showF(self):\n",
    "        print(\"Father Class Method\")\n",
    "class Son(Father):\n",
    "    def __init__(self):\n",
    "        print(\"Son Class Constructor\")\n",
    "    def showS(self):\n",
    "        print(\"Son Class Method\")\n",
    "class GrandSon(Son):\n",
    "    def __init__(self):\n",
    "        super().__init__()\n",
    "        print(\"GrandSon Class Constructor\")\n",
    "    def showG(self):\n",
    "        print(\"Father Class Method\")\n",
    "g=GrandSon()"
   ]
  },
  {
   "cell_type": "code",
   "execution_count": 14,
   "metadata": {},
   "outputs": [
    {
     "name": "stdout",
     "output_type": "stream",
     "text": [
      "Father Class Constructor\n",
      "Son Class Constructor\n",
      "GrandSon Class Constructor\n"
     ]
    }
   ],
   "source": [
    "# Multi-Level Inheritance\n",
    "class Father:\n",
    "    def __init__(self):\n",
    "        print(\"Father Class Constructor\")\n",
    "    def showF(self):\n",
    "        print(\"Father Class Method\")\n",
    "class Son(Father):\n",
    "    def __init__(self):\n",
    "        super().__init__()\n",
    "        print(\"Son Class Constructor\")\n",
    "    def showS(self):\n",
    "        print(\"Son Class Method\")\n",
    "class GrandSon(Son):\n",
    "    def __init__(self):\n",
    "        super().__init__()\n",
    "        print(\"GrandSon Class Constructor\")\n",
    "    def showG(self):\n",
    "        print(\"Father Class Method\")\n",
    "g=GrandSon()"
   ]
  },
  {
   "cell_type": "code",
   "execution_count": 15,
   "metadata": {},
   "outputs": [
    {
     "name": "stdout",
     "output_type": "stream",
     "text": [
      "Father Class Constructor\n",
      "Son Class Constructor\n",
      "GrandSon Class Constructor\n",
      "Father Class Method\n",
      "Father Class Method\n",
      "Son Class Method\n"
     ]
    }
   ],
   "source": [
    "# Multi-Level Inheritance\n",
    "class Father:\n",
    "    def __init__(self):\n",
    "        print(\"Father Class Constructor\")\n",
    "    def showF(self):\n",
    "        print(\"Father Class Method\")\n",
    "class Son(Father):\n",
    "    def __init__(self):\n",
    "        super().__init__()\n",
    "        print(\"Son Class Constructor\")\n",
    "    def showS(self):\n",
    "        print(\"Son Class Method\")\n",
    "class GrandSon(Son):\n",
    "    def __init__(self):\n",
    "        super().__init__()\n",
    "        print(\"GrandSon Class Constructor\")\n",
    "    def showG(self):\n",
    "        print(\"Father Class Method\")\n",
    "g=GrandSon()\n",
    "g.showG()\n",
    "g.showF()\n",
    "g.showS()"
   ]
  },
  {
   "cell_type": "code",
   "execution_count": null,
   "metadata": {},
   "outputs": [],
   "source": []
  }
 ],
 "metadata": {
  "kernelspec": {
   "display_name": "Python 3",
   "language": "python",
   "name": "python3"
  },
  "language_info": {
   "codemirror_mode": {
    "name": "ipython",
    "version": 3
   },
   "file_extension": ".py",
   "mimetype": "text/x-python",
   "name": "python",
   "nbconvert_exporter": "python",
   "pygments_lexer": "ipython3",
   "version": "3.8.5"
  }
 },
 "nbformat": 4,
 "nbformat_minor": 4
}
