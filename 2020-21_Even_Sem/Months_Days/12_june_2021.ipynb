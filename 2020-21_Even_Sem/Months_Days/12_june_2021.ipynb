{
 "cells": [
  {
   "cell_type": "code",
   "execution_count": 2,
   "metadata": {},
   "outputs": [],
   "source": [
    "# varibale in function\n",
    "def val(x):\n",
    "        x = 15\n",
    "        print(x, id(x))\n",
    "\t"
   ]
  },
  {
   "cell_type": "code",
   "execution_count": 3,
   "metadata": {},
   "outputs": [
    {
     "name": "stdout",
     "output_type": "stream",
     "text": [
      "15 140729449523424\n",
      "10 140729449523264\n"
     ]
    }
   ],
   "source": [
    "x = 10\n",
    "val(x)\n",
    "print(x, id(x))\n"
   ]
  },
  {
   "cell_type": "code",
   "execution_count": 4,
   "metadata": {},
   "outputs": [
    {
     "name": "stdout",
     "output_type": "stream",
     "text": [
      "10 140729449523264\n"
     ]
    }
   ],
   "source": [
    "print(x, id(x))"
   ]
  },
  {
   "cell_type": "code",
   "execution_count": 8,
   "metadata": {},
   "outputs": [],
   "source": [
    "# list in function\n",
    "def val(lst):\n",
    "      lst.append(4)\n",
    "      print(lst, id(lst))\n",
    "\t"
   ]
  },
  {
   "cell_type": "code",
   "execution_count": 9,
   "metadata": {},
   "outputs": [
    {
     "name": "stdout",
     "output_type": "stream",
     "text": [
      "[1, 2, 3] 2465844071168\n",
      "[1, 2, 3, 4] 2465844071168\n",
      "[1, 2, 3, 4] 2465844071168\n"
     ]
    }
   ],
   "source": [
    "lst = [1, 2, 3]\n",
    "print(lst, id(lst))\n",
    "val(lst)\n",
    "print(lst, id(lst))"
   ]
  },
  {
   "cell_type": "code",
   "execution_count": 10,
   "metadata": {},
   "outputs": [
    {
     "name": "stdout",
     "output_type": "stream",
     "text": [
      "[1, 2, 3, 4] 2465844071168\n"
     ]
    }
   ],
   "source": [
    "print(lst, id(lst))"
   ]
  },
  {
   "cell_type": "code",
   "execution_count": 11,
   "metadata": {},
   "outputs": [],
   "source": [
    "# variable in function\n",
    "def val(a):\n",
    "        a = 15\n",
    "        print(a, id(a))\n",
    "\t"
   ]
  },
  {
   "cell_type": "code",
   "execution_count": 12,
   "metadata": {},
   "outputs": [
    {
     "name": "stdout",
     "output_type": "stream",
     "text": [
      "15 140729449523424\n",
      "10 140729449523264\n"
     ]
    }
   ],
   "source": [
    "x = 10\n",
    "val(x)\n",
    "print(x, id(x))"
   ]
  },
  {
   "cell_type": "code",
   "execution_count": 13,
   "metadata": {},
   "outputs": [],
   "source": [
    "# list in function\n",
    "def val(l):\n",
    "      l.append(4)\n",
    "      print(l, id(l))\n",
    "\t"
   ]
  },
  {
   "cell_type": "code",
   "execution_count": 14,
   "metadata": {},
   "outputs": [
    {
     "name": "stdout",
     "output_type": "stream",
     "text": [
      "[1, 2, 3] 2465844325824\n",
      "[1, 2, 3, 4] 2465844325824\n",
      "[1, 2, 3, 4] 2465844325824\n"
     ]
    }
   ],
   "source": [
    "lst = [1, 2, 3]\n",
    "print(lst, id(lst))\n",
    "val(lst)\n",
    "print(lst, id(lst))"
   ]
  },
  {
   "cell_type": "code",
   "execution_count": 15,
   "metadata": {},
   "outputs": [],
   "source": [
    "# list in function\n",
    "def val(lst):\n",
    "        print(lst, id(lst))\n",
    "        lst = [11, 22, 33]\n",
    "        print(lst, id(lst))\n",
    "\t"
   ]
  },
  {
   "cell_type": "code",
   "execution_count": 16,
   "metadata": {},
   "outputs": [
    {
     "name": "stdout",
     "output_type": "stream",
     "text": [
      "[1, 2, 3] 2465844341568\n",
      "[1, 2, 3] 2465844341568\n",
      "[11, 22, 33] 2465844340992\n",
      "[1, 2, 3] 2465844341568\n"
     ]
    }
   ],
   "source": [
    "lst = [1, 2, 3]\n",
    "print(lst, id(lst))\n",
    "val(lst)\n",
    "print(lst, id(lst))"
   ]
  },
  {
   "cell_type": "code",
   "execution_count": null,
   "metadata": {},
   "outputs": [],
   "source": []
  }
 ],
 "metadata": {
  "kernelspec": {
   "display_name": "Python 3",
   "language": "python",
   "name": "python3"
  },
  "language_info": {
   "codemirror_mode": {
    "name": "ipython",
    "version": 3
   },
   "file_extension": ".py",
   "mimetype": "text/x-python",
   "name": "python",
   "nbconvert_exporter": "python",
   "pygments_lexer": "ipython3",
   "version": "3.8.5"
  }
 },
 "nbformat": 4,
 "nbformat_minor": 4
}
