{
 "cells": [
  {
   "cell_type": "code",
   "execution_count": 1,
   "metadata": {},
   "outputs": [
    {
     "name": "stdout",
     "output_type": "stream",
     "text": [
      "yes\n"
     ]
    }
   ],
   "source": [
    "# class/statics variable\n",
    "class Mobile:\n",
    "    fp=\"yes\"\n",
    "    @classmethod\n",
    "    def is_fp(cls):\n",
    "        print(cls.fp)\n",
    "realme=Mobile()\n",
    "print(Mobile.fp)"
   ]
  },
  {
   "cell_type": "code",
   "execution_count": 2,
   "metadata": {},
   "outputs": [
    {
     "name": "stdout",
     "output_type": "stream",
     "text": [
      "yes\n"
     ]
    }
   ],
   "source": [
    "# class/statics variable\n",
    "class Mobile:\n",
    "    fp=\"yes\"\n",
    "    @classmethod\n",
    "    def is_fp(cls):\n",
    "        print(cls.fp)\n",
    "realme=Mobile()\n",
    "Mobile.is_fp()"
   ]
  },
  {
   "cell_type": "code",
   "execution_count": 4,
   "metadata": {},
   "outputs": [
    {
     "name": "stdout",
     "output_type": "stream",
     "text": [
      "class=  yes\n",
      "yes\n",
      "yes\n",
      "yes\n"
     ]
    }
   ],
   "source": [
    "# class Namespace Space\n",
    "class Mobile:\n",
    "    fp=\"yes\"\n",
    "    @classmethod\n",
    "    def is_fp(cls):\n",
    "        print(\"finger sensor= \",cls.fp)\n",
    "realme=Mobile()\n",
    "redmi=Mobile()\n",
    "realpro=Mobile()\n",
    "print(\"class= \",Mobile.fp)\n",
    "print(realme.fp)\n",
    "print(redmi.fp)\n",
    "print(realpro.fp)"
   ]
  },
  {
   "cell_type": "code",
   "execution_count": 10,
   "metadata": {},
   "outputs": [
    {
     "name": "stdout",
     "output_type": "stream",
     "text": [
      "class=  yes\n",
      "yes\n",
      "yes\n",
      "yes\n",
      "class=  no\n",
      "no\n",
      "no\n",
      "no\n"
     ]
    }
   ],
   "source": [
    "# class Namespace Space\n",
    "class Mobile:\n",
    "    fp=\"yes\"\n",
    "    @classmethod\n",
    "    def is_fp(cls):\n",
    "        print(\"finger sensor= \",cls.fp)\n",
    "realme=Mobile()\n",
    "redmi=Mobile()\n",
    "realpro=Mobile()\n",
    "print(\"class= \",Mobile.fp)\n",
    "print(realme.fp)\n",
    "print(redmi.fp)\n",
    "print(realpro.fp)\n",
    "Mobile.fp=\"no\"\n",
    "print(\"class= \",Mobile.fp)\n",
    "print(realme.fp)\n",
    "print(redmi.fp)\n",
    "print(realpro.fp)"
   ]
  },
  {
   "cell_type": "code",
   "execution_count": 12,
   "metadata": {},
   "outputs": [
    {
     "name": "stdout",
     "output_type": "stream",
     "text": [
      "class=  yes\n",
      "yes\n",
      "yes\n",
      "yes\n",
      "class=  no\n",
      "no\n",
      "no\n",
      "no\n",
      "class=  no\n",
      "no\n",
      "Notworking\n",
      "no\n"
     ]
    }
   ],
   "source": [
    "# class Namespace Space\n",
    "class Mobile:\n",
    "    fp=\"yes\"\n",
    "    @classmethod\n",
    "    def is_fp(cls):\n",
    "        print(\"finger sensor= \",cls.fp)\n",
    "realme=Mobile()\n",
    "redmi=Mobile()\n",
    "realpro=Mobile()\n",
    "print(\"class= \",Mobile.fp)\n",
    "print(realme.fp)\n",
    "print(redmi.fp)\n",
    "print(realpro.fp)\n",
    "Mobile.fp=\"no\"\n",
    "print(\"class= \",Mobile.fp)\n",
    "print(realme.fp)\n",
    "print(redmi.fp)\n",
    "print(realpro.fp)\n",
    "# instance Namespace Space\n",
    "redmi.fp=\"Notworking\"\n",
    "print(\"class= \",Mobile.fp)\n",
    "print(realme.fp)\n",
    "print(redmi.fp)\n",
    "print(realpro.fp)"
   ]
  },
  {
   "cell_type": "code",
   "execution_count": null,
   "metadata": {},
   "outputs": [],
   "source": []
  }
 ],
 "metadata": {
  "kernelspec": {
   "display_name": "Python 3",
   "language": "python",
   "name": "python3"
  },
  "language_info": {
   "codemirror_mode": {
    "name": "ipython",
    "version": 3
   },
   "file_extension": ".py",
   "mimetype": "text/x-python",
   "name": "python",
   "nbconvert_exporter": "python",
   "pygments_lexer": "ipython3",
   "version": "3.8.5"
  }
 },
 "nbformat": 4,
 "nbformat_minor": 4
}
