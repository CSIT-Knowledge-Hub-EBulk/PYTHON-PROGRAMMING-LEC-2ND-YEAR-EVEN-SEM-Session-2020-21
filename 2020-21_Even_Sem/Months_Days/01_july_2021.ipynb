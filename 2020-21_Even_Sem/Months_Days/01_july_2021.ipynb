{
 "cells": [
  {
   "cell_type": "markdown",
   "metadata": {},
   "source": [
    "# Passing members of one class to another class."
   ]
  },
  {
   "cell_type": "code",
   "execution_count": 1,
   "metadata": {},
   "outputs": [],
   "source": [
    "class Student:\n",
    "    def __init__(self,n,r):\n",
    "        self.name=n\n",
    "        self.roll=r\n",
    "    def display(self):\n",
    "        print(\"Student Name:\",self.name)\n",
    "        print(\"Student Roll:\",self.roll)"
   ]
  },
  {
   "cell_type": "code",
   "execution_count": 4,
   "metadata": {},
   "outputs": [
    {
     "name": "stdout",
     "output_type": "stream",
     "text": [
      "User Name Shweta\n",
      "User Roll 1\n",
      "Student Name: Shweta\n",
      "Student Roll: 1\n"
     ]
    }
   ],
   "source": [
    "class Student:\n",
    "    def __init__(self,n,r):\n",
    "        self.name=n\n",
    "        self.roll=r\n",
    "    def display(self):\n",
    "        print(\"Student Name:\",self.name)\n",
    "        print(\"Student Roll:\",self.roll)\n",
    "class User:\n",
    "    # Static Method\n",
    "    @staticmethod\n",
    "    def show(s):\n",
    "        print(\"User Name\",s.name)\n",
    "        print(\"User Roll\",s.roll)\n",
    "        s.display()\n",
    "# creating object of student class\n",
    "stu=Student(\"Shweta\",1)\n",
    "User.show(stu)"
   ]
  },
  {
   "cell_type": "code",
   "execution_count": null,
   "metadata": {},
   "outputs": [],
   "source": []
  },
  {
   "cell_type": "code",
   "execution_count": null,
   "metadata": {},
   "outputs": [],
   "source": []
  }
 ],
 "metadata": {
  "kernelspec": {
   "display_name": "Python 3",
   "language": "python",
   "name": "python3"
  },
  "language_info": {
   "codemirror_mode": {
    "name": "ipython",
    "version": 3
   },
   "file_extension": ".py",
   "mimetype": "text/x-python",
   "name": "python",
   "nbconvert_exporter": "python",
   "pygments_lexer": "ipython3",
   "version": "3.8.5"
  }
 },
 "nbformat": 4,
 "nbformat_minor": 4
}
