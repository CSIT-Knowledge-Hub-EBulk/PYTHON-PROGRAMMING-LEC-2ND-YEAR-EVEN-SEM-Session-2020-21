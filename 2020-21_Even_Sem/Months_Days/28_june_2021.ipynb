{
 "cells": [
  {
   "cell_type": "code",
   "execution_count": 1,
   "metadata": {},
   "outputs": [
    {
     "name": "stdout",
     "output_type": "stream",
     "text": [
      "Realme-X\n"
     ]
    }
   ],
   "source": [
    "# Instance Method without parameter\n",
    "class Mobile:\n",
    "    def show_model(self):\n",
    "        print(\"Realme-X\")\n",
    "realme=Mobile()\n",
    "realme.show_model()"
   ]
  },
  {
   "cell_type": "code",
   "execution_count": 5,
   "metadata": {},
   "outputs": [
    {
     "name": "stdout",
     "output_type": "stream",
     "text": [
      "Model =  Realme_X\n"
     ]
    }
   ],
   "source": [
    "# Instance Method without parameter\n",
    "class Mobile:\n",
    "    def __init__(self):\n",
    "        self.model=\"Realme_X\" # Instance variable\n",
    "    def show_model(self):\n",
    "        print(\"Model = \",self.model)\n",
    "realme=Mobile()\n",
    "realme.show_model()"
   ]
  },
  {
   "cell_type": "code",
   "execution_count": 3,
   "metadata": {},
   "outputs": [
    {
     "name": "stdout",
     "output_type": "stream",
     "text": [
      "Model =  Realme_X \t rate =  30000\n"
     ]
    }
   ],
   "source": [
    "# Instance Method with parameter\n",
    "class Mobile:\n",
    "    def __init__(self):\n",
    "        self.model=\"Realme_X\" # Instance variable\n",
    "    def show_model(self,r):  # Instance method\n",
    "        print(\"Model = \",self.model,\"\\t\",\"rate = \",r)\n",
    "realme=Mobile()\n",
    "realme.show_model(30000)"
   ]
  },
  {
   "cell_type": "code",
   "execution_count": 7,
   "metadata": {},
   "outputs": [
    {
     "name": "stdout",
     "output_type": "stream",
     "text": [
      "Model =  Realme_X \t rate =  30000\n",
      "Model =  Realme_X \t rate =  35000\n"
     ]
    }
   ],
   "source": [
    "# Instance Method with parameter\n",
    "class Mobile:\n",
    "    def __init__(self):\n",
    "        self.model=\"Realme_X\" # Instance variable\n",
    "    def show_model(self,r):  # Instance method\n",
    "        print(\"Model = \",self.model,\"\\t\",\"rate = \",r)\n",
    "realme=Mobile()\n",
    "redmi=Mobile()\n",
    "realme.show_model(30000)\n",
    "redmi.show_model(35000)"
   ]
  },
  {
   "cell_type": "code",
   "execution_count": 8,
   "metadata": {},
   "outputs": [
    {
     "name": "stdout",
     "output_type": "stream",
     "text": [
      "Realme_X\n"
     ]
    }
   ],
   "source": [
    "# Instance Method------ Accessor Method Or Getter Method\n",
    "class Mobile:\n",
    "    def __init__(self):\n",
    "        self.model=\"Realme_X\" # Instance variable\n",
    "    def get_model(self):  # Accessor Method Or Getter Method\n",
    "        return self.model\n",
    "realme=Mobile()\n",
    "model_m= realme.get_model() # calling Accessor Method Or Getter Method\n",
    "print(model_m)"
   ]
  },
  {
   "cell_type": "code",
   "execution_count": 9,
   "metadata": {},
   "outputs": [
    {
     "name": "stdout",
     "output_type": "stream",
     "text": [
      "Realme_X\n",
      "Realme_X+\n"
     ]
    }
   ],
   "source": [
    "# Instance Method------ Mutator Method Or Setter Method\n",
    "class Mobile:\n",
    "    def __init__(self):\n",
    "        self.model=\"Realme_X\" # Instance variable\n",
    "    def set_model(self):  # Mutator Method Or Setter Method\n",
    "        self.model=\"Realme_X+\"\n",
    "realme=Mobile()\n",
    "# value of before setting\n",
    "print(realme.model)\n",
    "realme.set_model() # calling Mutator Method Or Setter Method\n",
    "# value of after setting\n",
    "print(realme.model)"
   ]
  },
  {
   "cell_type": "code",
   "execution_count": 10,
   "metadata": {},
   "outputs": [
    {
     "name": "stdout",
     "output_type": "stream",
     "text": [
      "Realme_X\n"
     ]
    }
   ],
   "source": [
    "# Instance Method------ Mutator Method Or Setter Method\n",
    "class Mobile:\n",
    "    def set_model(self,m):  # Mutator Method Or Setter Method\n",
    "        self.model=m \n",
    "realme=Mobile()\n",
    "realme.set_model(\"Realme_X\")\n",
    "print(realme.model)"
   ]
  },
  {
   "cell_type": "code",
   "execution_count": null,
   "metadata": {},
   "outputs": [],
   "source": []
  }
 ],
 "metadata": {
  "kernelspec": {
   "display_name": "Python 3",
   "language": "python",
   "name": "python3"
  },
  "language_info": {
   "codemirror_mode": {
    "name": "ipython",
    "version": 3
   },
   "file_extension": ".py",
   "mimetype": "text/x-python",
   "name": "python",
   "nbconvert_exporter": "python",
   "pygments_lexer": "ipython3",
   "version": "3.8.5"
  }
 },
 "nbformat": 4,
 "nbformat_minor": 4
}
