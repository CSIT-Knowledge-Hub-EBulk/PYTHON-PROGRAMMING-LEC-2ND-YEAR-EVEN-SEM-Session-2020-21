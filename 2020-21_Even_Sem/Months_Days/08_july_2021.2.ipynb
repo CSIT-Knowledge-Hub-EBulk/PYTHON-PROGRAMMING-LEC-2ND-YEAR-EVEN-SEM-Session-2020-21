{
 "cells": [
  {
   "cell_type": "code",
   "execution_count": 1,
   "metadata": {},
   "outputs": [
    {
     "name": "stdout",
     "output_type": "stream",
     "text": [
      "Father Class Constructor\n"
     ]
    }
   ],
   "source": [
    "# Constructor in Inheritance\n",
    "class Father:\n",
    "    def __init__(self):\n",
    "        self.money=20000\n",
    "        print(\"Father Class Constructor\")\n",
    "    def show(self):\n",
    "        print(\"Father Class Instance Method\")\n",
    "class Son(Father):\n",
    "    def disp(self):\n",
    "        print(\"Child Class Instance Method\")\n",
    "s=Son()"
   ]
  },
  {
   "cell_type": "code",
   "execution_count": 2,
   "metadata": {},
   "outputs": [
    {
     "name": "stdout",
     "output_type": "stream",
     "text": [
      "Father Class Constructor\n",
      "20000\n"
     ]
    }
   ],
   "source": [
    "# Constructor in Inheritance\n",
    "class Father:\n",
    "    def __init__(self):\n",
    "        self.money=20000\n",
    "        print(\"Father Class Constructor\")\n",
    "    def show(self):\n",
    "        print(\"Father Class Instance Method\")\n",
    "class Son(Father):\n",
    "    def disp(self):\n",
    "        print(\"Child Class Instance Method\")\n",
    "s=Son()\n",
    "print(s.money)"
   ]
  },
  {
   "cell_type": "code",
   "execution_count": 3,
   "metadata": {},
   "outputs": [
    {
     "name": "stdout",
     "output_type": "stream",
     "text": [
      "Father Class Constructor\n",
      "20000\n",
      "Father Class Instance Method\n",
      "Child Class Instance Method\n"
     ]
    }
   ],
   "source": [
    "# Constructor in Inheritance\n",
    "class Father:\n",
    "    def __init__(self):\n",
    "        self.money=20000\n",
    "        print(\"Father Class Constructor\")\n",
    "    def show(self):\n",
    "        print(\"Father Class Instance Method\")\n",
    "class Son(Father):\n",
    "    def disp(self):\n",
    "        print(\"Child Class Instance Method\")\n",
    "s=Son()\n",
    "print(s.money)\n",
    "s.show()\n",
    "s.disp()"
   ]
  },
  {
   "cell_type": "code",
   "execution_count": 7,
   "metadata": {},
   "outputs": [
    {
     "name": "stdout",
     "output_type": "stream",
     "text": [
      "Father Class Constructor\n",
      "25000\n",
      "Father Class Instance Method\n",
      "Child Class Instance Method 25000\n"
     ]
    }
   ],
   "source": [
    "# Constructor in Inheritance\n",
    "class Father:\n",
    "    def __init__(self,m):\n",
    "        self.money=m\n",
    "        print(\"Father Class Constructor\")\n",
    "    def show(self):\n",
    "        print(\"Father Class Instance Method\")\n",
    "class Son(Father):\n",
    "    def disp(self):\n",
    "        print(\"Child Class Instance Method\",self.money)\n",
    "s=Son(25000)\n",
    "print(s.money)\n",
    "s.show()\n",
    "s.disp()"
   ]
  },
  {
   "cell_type": "code",
   "execution_count": 8,
   "metadata": {},
   "outputs": [
    {
     "name": "stdout",
     "output_type": "stream",
     "text": [
      "Father Class Constructor\n",
      "25000\n",
      "Father Class Instance Method\n",
      "Child Class Instance Method 27000\n"
     ]
    }
   ],
   "source": [
    "# Constructor in Inheritance\n",
    "class Father:\n",
    "    def __init__(self,m):\n",
    "        self.money=m\n",
    "        print(\"Father Class Constructor\")\n",
    "    def show(self):\n",
    "        print(\"Father Class Instance Method\")\n",
    "class Son(Father):\n",
    "    def disp(self):\n",
    "        print(\"Child Class Instance Method\",self.money+2000)\n",
    "s=Son(25000)\n",
    "print(s.money)\n",
    "s.show()\n",
    "s.disp()"
   ]
  },
  {
   "cell_type": "code",
   "execution_count": null,
   "metadata": {},
   "outputs": [],
   "source": []
  }
 ],
 "metadata": {
  "kernelspec": {
   "display_name": "Python 3",
   "language": "python",
   "name": "python3"
  },
  "language_info": {
   "codemirror_mode": {
    "name": "ipython",
    "version": 3
   },
   "file_extension": ".py",
   "mimetype": "text/x-python",
   "name": "python",
   "nbconvert_exporter": "python",
   "pygments_lexer": "ipython3",
   "version": "3.8.5"
  }
 },
 "nbformat": 4,
 "nbformat_minor": 4
}
