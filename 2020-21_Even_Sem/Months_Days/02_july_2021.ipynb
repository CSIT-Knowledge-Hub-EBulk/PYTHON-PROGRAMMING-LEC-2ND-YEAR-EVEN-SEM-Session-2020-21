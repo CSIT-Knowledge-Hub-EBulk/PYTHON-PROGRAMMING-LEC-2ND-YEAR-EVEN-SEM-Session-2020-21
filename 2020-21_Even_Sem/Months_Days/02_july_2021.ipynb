{
 "cells": [
  {
   "cell_type": "markdown",
   "metadata": {},
   "source": [
    "###### Nested Class Concept"
   ]
  },
  {
   "cell_type": "code",
   "execution_count": 2,
   "metadata": {},
   "outputs": [
    {
     "name": "stdout",
     "output_type": "stream",
     "text": [
      "Shweta\n"
     ]
    }
   ],
   "source": [
    "class Army:\n",
    "    def __init__(self):\n",
    "        self.name=\"Shweta\"\n",
    "        self.gun=self.Gun() # Inner class Object\n",
    "    def show(self):\n",
    "        print(\"Name= \",self.name)\n",
    "    class Gun:\n",
    "        def __init__(self):\n",
    "            self.name=\"Pocket Pistol\"\n",
    "            self.capacity=\"45 rounds\"\n",
    "            self.lenght=\"25.5 In\"\n",
    "        def display(self):\n",
    "            print(\"Gun Name= \",self.name)\n",
    "            print(\"Gun Capacity= \",self.capacity)\n",
    "            print(\"Gun Lenght= \",self.lenght)\n",
    "a=Army()\n",
    "print(a.name)"
   ]
  },
  {
   "cell_type": "code",
   "execution_count": 4,
   "metadata": {},
   "outputs": [
    {
     "name": "stdout",
     "output_type": "stream",
     "text": [
      "Shweta\n",
      "Name=  Shweta\n"
     ]
    }
   ],
   "source": [
    "class Army:\n",
    "    def __init__(self):\n",
    "        self.name=\"Shweta\"\n",
    "        self.gun=self.Gun() # Inner class Object\n",
    "    def show(self):\n",
    "        print(\"Name= \",self.name)\n",
    "    class Gun:\n",
    "        def __init__(self):\n",
    "            self.name=\"Pocket Pistol\"\n",
    "            self.capacity=\"45 rounds\"\n",
    "            self.lenght=\"25.5 In\"\n",
    "        def display(self):\n",
    "            print(\"Gun Name= \",self.name)\n",
    "            print(\"Gun Capacity= \",self.capacity)\n",
    "            print(\"Gun Lenght= \",self.lenght)\n",
    "a=Army()\n",
    "print(a.name)\n",
    "a.show()"
   ]
  },
  {
   "cell_type": "code",
   "execution_count": 5,
   "metadata": {},
   "outputs": [
    {
     "name": "stdout",
     "output_type": "stream",
     "text": [
      "Shweta\n",
      "Name=  Shweta\n"
     ]
    },
    {
     "ename": "NameError",
     "evalue": "name 'gun' is not defined",
     "output_type": "error",
     "traceback": [
      "\u001b[1;31m---------------------------------------------------------------------------\u001b[0m",
      "\u001b[1;31mNameError\u001b[0m                                 Traceback (most recent call last)",
      "\u001b[1;32m<ipython-input-5-570c85c6c0dc>\u001b[0m in \u001b[0;36m<module>\u001b[1;34m\u001b[0m\n\u001b[0;32m     17\u001b[0m \u001b[0mprint\u001b[0m\u001b[1;33m(\u001b[0m\u001b[0ma\u001b[0m\u001b[1;33m.\u001b[0m\u001b[0mname\u001b[0m\u001b[1;33m)\u001b[0m\u001b[1;33m\u001b[0m\u001b[1;33m\u001b[0m\u001b[0m\n\u001b[0;32m     18\u001b[0m \u001b[0ma\u001b[0m\u001b[1;33m.\u001b[0m\u001b[0mshow\u001b[0m\u001b[1;33m(\u001b[0m\u001b[1;33m)\u001b[0m\u001b[1;33m\u001b[0m\u001b[1;33m\u001b[0m\u001b[0m\n\u001b[1;32m---> 19\u001b[1;33m \u001b[0mprint\u001b[0m\u001b[1;33m(\u001b[0m\u001b[0mgun\u001b[0m\u001b[1;33m.\u001b[0m\u001b[0mname\u001b[0m\u001b[1;33m)\u001b[0m\u001b[1;33m\u001b[0m\u001b[1;33m\u001b[0m\u001b[0m\n\u001b[0m",
      "\u001b[1;31mNameError\u001b[0m: name 'gun' is not defined"
     ]
    }
   ],
   "source": [
    "class Army:\n",
    "    def __init__(self):\n",
    "        self.name=\"Shweta\"\n",
    "        self.gun=self.Gun() # Inner class Object\n",
    "    def show(self):\n",
    "        print(\"Name= \",self.name)\n",
    "    class Gun:\n",
    "        def __init__(self):\n",
    "            self.name=\"Pocket Pistol\"\n",
    "            self.capacity=\"45 rounds\"\n",
    "            self.lenght=\"25.5 In\"\n",
    "        def display(self):\n",
    "            print(\"Gun Name= \",self.name)\n",
    "            print(\"Gun Capacity= \",self.capacity)\n",
    "            print(\"Gun Lenght= \",self.lenght)\n",
    "a=Army()\n",
    "print(a.name)\n",
    "a.show()\n",
    "print(gun.name)"
   ]
  },
  {
   "cell_type": "code",
   "execution_count": 8,
   "metadata": {},
   "outputs": [
    {
     "name": "stdout",
     "output_type": "stream",
     "text": [
      "Shweta\n",
      "Name=  Shweta\n",
      "Pocket Pistol\n"
     ]
    }
   ],
   "source": [
    "class Army:\n",
    "    def __init__(self):\n",
    "        self.name=\"Shweta\"\n",
    "        self.gun=self.Gun() # Inner class Object\n",
    "    def show(self):\n",
    "        print(\"Name= \",self.name)\n",
    "    class Gun:\n",
    "        def __init__(self):\n",
    "            self.name=\"Pocket Pistol\"\n",
    "            self.capacity=\"45 rounds\"\n",
    "            self.lenght=\"25.5 In\"\n",
    "        def display(self):\n",
    "            print(\"Gun Name= \",self.name)\n",
    "            print(\"Gun Capacity= \",self.capacity)\n",
    "            print(\"Gun Lenght= \",self.lenght)\n",
    "a=Army()\n",
    "print(a.name)\n",
    "a.show()\n",
    "print(a.gun.name)"
   ]
  },
  {
   "cell_type": "code",
   "execution_count": 11,
   "metadata": {},
   "outputs": [
    {
     "name": "stdout",
     "output_type": "stream",
     "text": [
      "Shweta\n",
      "Name=  Shweta\n",
      "Pocket Pistol\n",
      "\n",
      "\n",
      "Pocket Pistol\n"
     ]
    }
   ],
   "source": [
    "class Army:\n",
    "    def __init__(self):\n",
    "        self.name=\"Shweta\"\n",
    "        self.gun=self.Gun() # Inner class Object\n",
    "    def show(self):\n",
    "        print(\"Name= \",self.name)\n",
    "    class Gun:\n",
    "        def __init__(self):\n",
    "            self.name=\"Pocket Pistol\"\n",
    "            self.capacity=\"45 rounds\"\n",
    "            self.lenght=\"25.5 In\"\n",
    "        def display(self):\n",
    "            print(\"Gun Name= \",self.name)\n",
    "            print(\"Gun Capacity= \",self.capacity)\n",
    "            print(\"Gun Lenght= \",self.lenght)\n",
    "a=Army()\n",
    "print(a.name)\n",
    "a.show()\n",
    "print(a.gun.name)\n",
    "print(\"\\n\")\n",
    "g=a.gun\n",
    "print(g.name)"
   ]
  },
  {
   "cell_type": "code",
   "execution_count": 6,
   "metadata": {},
   "outputs": [
    {
     "name": "stdout",
     "output_type": "stream",
     "text": [
      "Shweta\n",
      "Name=  Shweta\n",
      "Pocket Pistol\n",
      "\n",
      "\n",
      "Pocket Pistol\n",
      "45 rounds\n",
      "25.5 In\n",
      "Gun Name=  Pocket Pistol\n",
      "Gun Capacity=  45 rounds\n",
      "Gun Lenght=  25.5 In\n"
     ]
    }
   ],
   "source": [
    "class Army:\n",
    "    def __init__(self):\n",
    "        self.name=\"Shweta\"\n",
    "        self.gun=self.Gun() # Inner class Object\n",
    "    def show(self):\n",
    "        print(\"Name= \",self.name)\n",
    "    class Gun:\n",
    "        def __init__(self):\n",
    "            self.name=\"Pocket Pistol\"\n",
    "            self.capacity=\"45 rounds\"\n",
    "            self.lenght=\"25.5 In\"\n",
    "        def display(self):\n",
    "            print(\"Gun Name= \",self.name)\n",
    "            print(\"Gun Capacity= \",self.capacity)\n",
    "            print(\"Gun Lenght= \",self.lenght)\n",
    "a=Army()\n",
    "print(a.name)\n",
    "a.show()\n",
    "print(a.gun.name)\n",
    "print(\"\\n\")\n",
    "g=a.gun\n",
    "print(g.name)\n",
    "print(g.capacity)\n",
    "print(g.lenght)\n",
    "g.display()"
   ]
  },
  {
   "cell_type": "code",
   "execution_count": 8,
   "metadata": {},
   "outputs": [
    {
     "name": "stdout",
     "output_type": "stream",
     "text": [
      "Shweta\n",
      "Name=  Shweta\n",
      "\n",
      "\n",
      "Pocket Pistol\n",
      "45 rounds\n",
      "25.5 In\n",
      "Gun Name=  Pocket Pistol\n",
      "Gun Capacity=  45 rounds\n",
      "Gun Lenght=  25.5 In\n"
     ]
    }
   ],
   "source": [
    "class Army:\n",
    "    def __init__(self):\n",
    "        self.name=\"Shweta\"\n",
    "        self.gun=self.Gun() # Inner class Object\n",
    "    def show(self):\n",
    "        print(\"Name= \",self.name)\n",
    "    class Gun:\n",
    "        def __init__(self):\n",
    "            self.name=\"Pocket Pistol\"\n",
    "            self.capacity=\"45 rounds\"\n",
    "            self.lenght=\"25.5 In\"\n",
    "        def display(self):\n",
    "            print(\"Gun Name= \",self.name)\n",
    "            print(\"Gun Capacity= \",self.capacity)\n",
    "            print(\"Gun Lenght= \",self.lenght)\n",
    "a=Army()\n",
    "print(a.name)\n",
    "a.show()\n",
    "g=Army().Gun()\n",
    "print(\"\\n\")\n",
    "g=a.gun\n",
    "print(g.name)\n",
    "print(g.capacity)\n",
    "print(g.lenght)\n",
    "g.display()"
   ]
  },
  {
   "cell_type": "code",
   "execution_count": null,
   "metadata": {},
   "outputs": [],
   "source": []
  },
  {
   "cell_type": "code",
   "execution_count": null,
   "metadata": {},
   "outputs": [],
   "source": []
  }
 ],
 "metadata": {
  "kernelspec": {
   "display_name": "Python 3",
   "language": "python",
   "name": "python3"
  },
  "language_info": {
   "codemirror_mode": {
    "name": "ipython",
    "version": 3
   },
   "file_extension": ".py",
   "mimetype": "text/x-python",
   "name": "python",
   "nbconvert_exporter": "python",
   "pygments_lexer": "ipython3",
   "version": "3.8.5"
  }
 },
 "nbformat": 4,
 "nbformat_minor": 4
}
