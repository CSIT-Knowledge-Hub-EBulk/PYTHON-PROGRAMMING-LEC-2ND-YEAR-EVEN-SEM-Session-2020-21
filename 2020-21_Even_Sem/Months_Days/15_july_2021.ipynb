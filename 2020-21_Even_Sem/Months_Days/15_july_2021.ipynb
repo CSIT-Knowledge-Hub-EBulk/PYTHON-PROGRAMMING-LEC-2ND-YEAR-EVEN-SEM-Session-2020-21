{
 "cells": [
  {
   "cell_type": "code",
   "execution_count": 1,
   "metadata": {},
   "outputs": [
    {
     "name": "stdout",
     "output_type": "stream",
     "text": [
      "Defining Abstract Method\n",
      "Concrete Method\n"
     ]
    }
   ],
   "source": [
    "from abc import ABC, abstractmethod\n",
    "class Father(ABC):\n",
    "\n",
    "\t@abstractmethod\t\t\t\t\t\n",
    "\tdef disp(self):\t\t\t\t\t# Abstract Method\n",
    "\t\tpass\n",
    "\t\t\n",
    "\tdef show(self):\t\t\t\t\t# Concrete Method\n",
    "\t\tprint('Concrete Method')\n",
    "\t\t\n",
    "#my = Father()\t\t\t\t\t\t# Not possible to create object of a abstract class\n",
    "\n",
    "class Child(Father):\n",
    "\tdef disp(self):\n",
    "\t\tprint(\"Defining Abstract Method\")\n",
    "\t\t\n",
    "\n",
    "c = Child()\n",
    "c.disp()\n",
    "c.show()"
   ]
  },
  {
   "cell_type": "code",
   "execution_count": 2,
   "metadata": {},
   "outputs": [
    {
     "name": "stdout",
     "output_type": "stream",
     "text": [
      "Gun = AK47\n",
      "Army Area = Land 101\n",
      "\n",
      "Gun = AK47\n",
      "AirForce Area = Sky 101\n",
      "\n",
      "Gun = AK47\n",
      "Navy Area = Sea 101\n"
     ]
    }
   ],
   "source": [
    "from abc import ABC, abstractmethod\n",
    "\n",
    "class DefenceForce (ABC):\n",
    "\tdef __init__(self):\n",
    "\t\tself.id = 101\n",
    "\t\t\n",
    "\t@abstractmethod\n",
    "\tdef area(self):\n",
    "\t\tpass\n",
    "\t\n",
    "\tdef gun(self):\n",
    "\t\tprint(\"Gun = AK47\")\n",
    "\t\t\n",
    "class Army(DefenceForce):\n",
    "\tdef area(self):\n",
    "\t\tprint(\"Army Area = Land\", self.id)\n",
    "\t\t\n",
    "class AirForce(DefenceForce):\n",
    "\tdef area(self):\n",
    "\t\tprint(\"AirForce Area = Sky\", self.id)\n",
    "\t\t\n",
    "class Navy(DefenceForce):\n",
    "\tdef area(self):\n",
    "\t\tprint(\"Navy Area = Sea\", self.id)\n",
    "\t\t\n",
    "a = Army()\n",
    "af = AirForce()\n",
    "n = Navy()\n",
    "\n",
    "a.gun()\n",
    "a.area()\n",
    "print()\n",
    "af.gun()\n",
    "af.area()\n",
    "print()\n",
    "n.gun()\n",
    "n.area()"
   ]
  },
  {
   "cell_type": "code",
   "execution_count": null,
   "metadata": {},
   "outputs": [],
   "source": []
  }
 ],
 "metadata": {
  "kernelspec": {
   "display_name": "Python 3",
   "language": "python",
   "name": "python3"
  },
  "language_info": {
   "codemirror_mode": {
    "name": "ipython",
    "version": 3
   },
   "file_extension": ".py",
   "mimetype": "text/x-python",
   "name": "python",
   "nbconvert_exporter": "python",
   "pygments_lexer": "ipython3",
   "version": "3.8.5"
  }
 },
 "nbformat": 4,
 "nbformat_minor": 4
}
