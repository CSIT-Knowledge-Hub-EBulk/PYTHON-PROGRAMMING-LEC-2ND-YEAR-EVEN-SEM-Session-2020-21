{
 "cells": [
  {
   "cell_type": "code",
   "execution_count": 2,
   "metadata": {},
   "outputs": [
    {
     "name": "stdout",
     "output_type": "stream",
     "text": [
      "Son Class Method\n"
     ]
    }
   ],
   "source": [
    "#Multiple Inheritance\n",
    "class Father:\n",
    "    def show_fa(self):\n",
    "        print(\"Father Class Method\")\n",
    "class Mother:\n",
    "    def show_mo(self):\n",
    "        print(\"Mother Class Method\")\n",
    "class Son(Father,Mother):\n",
    "    def show_so(self):\n",
    "        print(\"Son Class Method\")\n",
    "s=Son()\n",
    "s.show_so()"
   ]
  },
  {
   "cell_type": "code",
   "execution_count": 3,
   "metadata": {},
   "outputs": [
    {
     "name": "stdout",
     "output_type": "stream",
     "text": [
      "Son Class Method\n",
      "Father Class Method\n",
      "Mother Class Method\n"
     ]
    }
   ],
   "source": [
    "#Multiple Inheritance\n",
    "class Father:\n",
    "    def show_fa(self):\n",
    "        print(\"Father Class Method\")\n",
    "class Mother:\n",
    "    def show_mo(self):\n",
    "        print(\"Mother Class Method\")\n",
    "class Son(Father,Mother):\n",
    "    def show_so(self):\n",
    "        print(\"Son Class Method\")\n",
    "s=Son()\n",
    "s.show_so()\n",
    "s.show_fa()\n",
    "s.show_mo()"
   ]
  },
  {
   "cell_type": "code",
   "execution_count": 7,
   "metadata": {},
   "outputs": [
    {
     "name": "stdout",
     "output_type": "stream",
     "text": [
      "Son Class Constructor\n"
     ]
    }
   ],
   "source": [
    "#Multiple Inheritance\n",
    "class Father:\n",
    "    def show_fa(self):\n",
    "        print(\"Father Class Method\")\n",
    "class Mother:\n",
    "    def show_mo(self):\n",
    "        print(\"Mother Class Method\")\n",
    "class Son(Father,Mother):\n",
    "    def __init__(self):\n",
    "        print(\"Son Class Constructor\")\n",
    "    def show_so(self):\n",
    "        print(\"Son Class Method\")\n",
    "s=Son()"
   ]
  },
  {
   "cell_type": "code",
   "execution_count": 4,
   "metadata": {},
   "outputs": [
    {
     "name": "stdout",
     "output_type": "stream",
     "text": [
      "Son Class Constructor\n"
     ]
    }
   ],
   "source": [
    "#Multiple Inheritance\n",
    "class Father:\n",
    "    def __init__(self):\n",
    "        print(\"Father Class Constructor\")\n",
    "    def show_fa(self):\n",
    "        print(\"Father Class Method\")\n",
    "class Mother:\n",
    "    def show_mo(self):\n",
    "        print(\"Mother Class Method\")\n",
    "class Son(Father,Mother):\n",
    "    def __init__(self):\n",
    "        print(\"Son Class Constructor\")\n",
    "    def show_so(self):\n",
    "        print(\"Son Class Method\")\n",
    "s=Son()"
   ]
  },
  {
   "cell_type": "code",
   "execution_count": 11,
   "metadata": {},
   "outputs": [
    {
     "name": "stdout",
     "output_type": "stream",
     "text": [
      "Father Class Constructor\n",
      "Son Class Constructor\n"
     ]
    }
   ],
   "source": [
    "#Multiple Inheritance\n",
    "class Father:\n",
    "    def __init__(self):\n",
    "        print(\"Father Class Constructor\")\n",
    "    def show_fa(self):\n",
    "        print(\"Father Class Method\")\n",
    "class Mother:\n",
    "    def show_mo(self):\n",
    "        print(\"Mother Class Method\")\n",
    "class Son(Father,Mother):\n",
    "    def __init__(self):\n",
    "        super().__init__() # calling parent class cons.\n",
    "        print(\"Son Class Constructor\")\n",
    "    def show_so(self):\n",
    "        print(\"Son Class Method\")\n",
    "s=Son()"
   ]
  },
  {
   "cell_type": "code",
   "execution_count": 12,
   "metadata": {},
   "outputs": [
    {
     "name": "stdout",
     "output_type": "stream",
     "text": [
      "Father Class Constructor\n",
      "Son Class Constructor\n"
     ]
    }
   ],
   "source": [
    "#Multiple Inheritance\n",
    "class Father:\n",
    "    def __init__(self):\n",
    "        print(\"Father Class Constructor\")\n",
    "    def show_fa(self):\n",
    "        print(\"Father Class Method\")\n",
    "class Mother:\n",
    "    def __init__(self):\n",
    "        print(\"Mother Class Constructor\")\n",
    "    def show_mo(self):\n",
    "        print(\"Mother Class Method\")\n",
    "class Son(Father,Mother):\n",
    "    def __init__(self):\n",
    "        super().__init__() # calling parent class cons.\n",
    "        print(\"Son Class Constructor\")\n",
    "    def show_so(self):\n",
    "        print(\"Son Class Method\")\n",
    "s=Son()"
   ]
  },
  {
   "cell_type": "code",
   "execution_count": 13,
   "metadata": {},
   "outputs": [
    {
     "name": "stdout",
     "output_type": "stream",
     "text": [
      "Mother Class Constructor\n",
      "Son Class Constructor\n"
     ]
    }
   ],
   "source": [
    "#Multiple Inheritance\n",
    "class Father:\n",
    "    def __init__(self):\n",
    "        print(\"Father Class Constructor\")\n",
    "    def show_fa(self):\n",
    "        print(\"Father Class Method\")\n",
    "class Mother:\n",
    "    def __init__(self):\n",
    "        print(\"Mother Class Constructor\")\n",
    "    def show_mo(self):\n",
    "        print(\"Mother Class Method\")\n",
    "class Son(Mother,Father):\n",
    "    def __init__(self):\n",
    "        super().__init__() # calling parent class cons.\n",
    "        print(\"Son Class Constructor\")\n",
    "    def show_so(self):\n",
    "        print(\"Son Class Method\")\n",
    "s=Son()"
   ]
  },
  {
   "cell_type": "code",
   "execution_count": null,
   "metadata": {},
   "outputs": [],
   "source": []
  }
 ],
 "metadata": {
  "kernelspec": {
   "display_name": "Python 3",
   "language": "python",
   "name": "python3"
  },
  "language_info": {
   "codemirror_mode": {
    "name": "ipython",
    "version": 3
   },
   "file_extension": ".py",
   "mimetype": "text/x-python",
   "name": "python",
   "nbconvert_exporter": "python",
   "pygments_lexer": "ipython3",
   "version": "3.8.5"
  }
 },
 "nbformat": 4,
 "nbformat_minor": 4
}
