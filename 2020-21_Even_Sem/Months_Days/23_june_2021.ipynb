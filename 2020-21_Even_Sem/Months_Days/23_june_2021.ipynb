{
 "cells": [
  {
   "cell_type": "code",
   "execution_count": 1,
   "metadata": {},
   "outputs": [
    {
     "name": "stdout",
     "output_type": "stream",
     "text": [
      "I am a method\n"
     ]
    }
   ],
   "source": [
    "class Myclass(object):\n",
    "    def show(self):\n",
    "        print(\"I am a method\")\n",
    "a= Myclass()\n",
    "a.show()"
   ]
  },
  {
   "cell_type": "code",
   "execution_count": 2,
   "metadata": {},
   "outputs": [
    {
     "name": "stdout",
     "output_type": "stream",
     "text": [
      "I am a method\n"
     ]
    }
   ],
   "source": [
    "class Myclass:\n",
    "    def show(self):\n",
    "        print(\"I am a method\")\n",
    "a= Myclass()\n",
    "a.show()"
   ]
  },
  {
   "cell_type": "code",
   "execution_count": 19,
   "metadata": {},
   "outputs": [
    {
     "name": "stdout",
     "output_type": "stream",
     "text": [
      "Mobile Model =  Realme-X\n",
      "Realme-X\n"
     ]
    }
   ],
   "source": [
    "class Mobile:\n",
    "    def __init__(self):\n",
    "        self.model=\"Realme-X\"\n",
    "    def show_model(self):\n",
    "        print(\"Mobile Model = \",self.model)\n",
    "realme=Mobile()\n",
    "realme.show_model()\n",
    "print(realme.model)"
   ]
  },
  {
   "cell_type": "code",
   "execution_count": 17,
   "metadata": {},
   "outputs": [
    {
     "name": "stdout",
     "output_type": "stream",
     "text": [
      "Mobile Model =  Realme-X Rate= 10000\n",
      "3100754706496\n",
      "Mobile Model =  Redmi-X Rate= 25000\n",
      "3100755403392\n"
     ]
    }
   ],
   "source": [
    "class Mobile:\n",
    "    def __init__(self,m):\n",
    "        self.model=m\n",
    "    def show_model(self,r):\n",
    "        rate=r\n",
    "        print(\"Mobile Model = \",self.model,\"Rate=\",rate)\n",
    "realme=Mobile(\"Realme-X\")\n",
    "realme.show_model(10000)\n",
    "print(id(realme))\n",
    "redmi=Mobile(\"Redmi-X\")\n",
    "redmi.show_model(25000)\n",
    "print(id(redmi))"
   ]
  },
  {
   "cell_type": "code",
   "execution_count": null,
   "metadata": {},
   "outputs": [],
   "source": []
  },
  {
   "cell_type": "code",
   "execution_count": null,
   "metadata": {},
   "outputs": [],
   "source": []
  },
  {
   "cell_type": "code",
   "execution_count": null,
   "metadata": {},
   "outputs": [],
   "source": []
  }
 ],
 "metadata": {
  "kernelspec": {
   "display_name": "Python 3",
   "language": "python",
   "name": "python3"
  },
  "language_info": {
   "codemirror_mode": {
    "name": "ipython",
    "version": 3
   },
   "file_extension": ".py",
   "mimetype": "text/x-python",
   "name": "python",
   "nbconvert_exporter": "python",
   "pygments_lexer": "ipython3",
   "version": "3.8.5"
  }
 },
 "nbformat": 4,
 "nbformat_minor": 4
}
