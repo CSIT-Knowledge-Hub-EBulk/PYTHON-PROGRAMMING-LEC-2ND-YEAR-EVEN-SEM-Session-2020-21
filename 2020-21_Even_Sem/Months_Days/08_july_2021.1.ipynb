{
 "cells": [
  {
   "cell_type": "code",
   "execution_count": 1,
   "metadata": {},
   "outputs": [
    {
     "name": "stdout",
     "output_type": "stream",
     "text": [
      "Child Class Instance Method\n"
     ]
    }
   ],
   "source": [
    "# Single Inheritance\n",
    "class Father:\n",
    "    money=20000\n",
    "    def show(self):\n",
    "        print(\"Parent Class Instance Method\")\n",
    "    @classmethod\n",
    "    def showmoney(cls):\n",
    "        print(\"Parent Class Method:\",cls.money)\n",
    "class Son(Father):\n",
    "    def disp(self):\n",
    "        print(\"Child Class Instance Method\")\n",
    "s=Son()\n",
    "s.disp()"
   ]
  },
  {
   "cell_type": "code",
   "execution_count": 3,
   "metadata": {},
   "outputs": [
    {
     "name": "stdout",
     "output_type": "stream",
     "text": [
      "Child Class Instance Method\n",
      "Parent Class Instance Method\n"
     ]
    }
   ],
   "source": [
    "# Single Inheritance\n",
    "class Father:\n",
    "    money=20000\n",
    "    def show(self):\n",
    "        print(\"Parent Class Instance Method\")\n",
    "    @classmethod\n",
    "    def showmoney(cls):\n",
    "        print(\"Parent Class Method:\",cls.money)\n",
    "class Son(Father):\n",
    "    def disp(self):\n",
    "        print(\"Child Class Instance Method\")\n",
    "s=Son()\n",
    "s.disp()\n",
    "s.show()"
   ]
  },
  {
   "cell_type": "code",
   "execution_count": 5,
   "metadata": {},
   "outputs": [
    {
     "name": "stdout",
     "output_type": "stream",
     "text": [
      "Child Class Instance Method\n",
      "Parent Class Instance Method\n",
      "Parent Class Moethod: 20000\n"
     ]
    }
   ],
   "source": [
    "# Single Inheritance\n",
    "class Father:\n",
    "    money=20000\n",
    "    def show(self):\n",
    "        print(\"Parent Class Instance Method\")\n",
    "    @classmethod\n",
    "    def showmoney(cls):\n",
    "        print(\"Parent Class Method:\",cls.money)\n",
    "class Son(Father):\n",
    "    def disp(self):\n",
    "        print(\"Child Class Instance Method\")\n",
    "s=Son()\n",
    "s.disp()\n",
    "s.show()\n",
    "s.showmoney()"
   ]
  },
  {
   "cell_type": "code",
   "execution_count": 2,
   "metadata": {},
   "outputs": [
    {
     "name": "stdout",
     "output_type": "stream",
     "text": [
      "Child Class Instance Method\n",
      "Parent Class Instance Method\n",
      "Parent Class Method: 20000\n",
      "Parent Static Method: 10\n"
     ]
    }
   ],
   "source": [
    "# Single Inheritance\n",
    "class Father:\n",
    "    money=20000\n",
    "    def show(self):\n",
    "        print(\"Parent Class Instance Method\")\n",
    "    @classmethod\n",
    "    def showmoney(cls):\n",
    "        print(\"Parent Class Method:\",cls.money)\n",
    "    @staticmethod\n",
    "    def stat():\n",
    "        a=10\n",
    "        print(\"Parent Static Method:\",a)\n",
    "class Son(Father):\n",
    "    def disp(self):\n",
    "        print(\"Child Class Instance Method\")\n",
    "s=Son()\n",
    "s.disp()\n",
    "s.show()\n",
    "s.showmoney()\n",
    "s.stat()"
   ]
  },
  {
   "cell_type": "code",
   "execution_count": 3,
   "metadata": {},
   "outputs": [
    {
     "name": "stdout",
     "output_type": "stream",
     "text": [
      "Child Class Instance Method\n",
      "Parent Class Instance Method\n",
      "Parent Class Method: 20000\n",
      "Parent Static Method: 10\n",
      "\n",
      "\n",
      "Parent Class Instance Method\n",
      "Parent Class Method: 20000\n",
      "Parent Static Method: 10\n"
     ]
    }
   ],
   "source": [
    "# Single Inheritance\n",
    "class Father:\n",
    "    money=20000\n",
    "    def show(self):\n",
    "        print(\"Parent Class Instance Method\")\n",
    "    @classmethod\n",
    "    def showmoney(cls):\n",
    "        print(\"Parent Class Method:\",cls.money)\n",
    "    @staticmethod\n",
    "    def stat():\n",
    "        a=10\n",
    "        print(\"Parent Static Method:\",a)\n",
    "class Son(Father):\n",
    "    def disp(self):\n",
    "        print(\"Child Class Instance Method\")\n",
    "s=Son()\n",
    "s.disp()\n",
    "s.show()\n",
    "s.showmoney()\n",
    "s.stat()\n",
    "print(\"\\n\")\n",
    "f=Father()\n",
    "f.show()\n",
    "f.showmoney()\n",
    "f.stat()"
   ]
  },
  {
   "cell_type": "code",
   "execution_count": 4,
   "metadata": {},
   "outputs": [
    {
     "name": "stdout",
     "output_type": "stream",
     "text": [
      "Child Class Instance Method\n",
      "Parent Class Instance Method\n",
      "Parent Class Method: 20000\n",
      "Parent Static Method: 10\n",
      "\n",
      "\n",
      "Parent Class Instance Method\n",
      "Parent Class Method: 20000\n",
      "Parent Static Method: 10\n"
     ]
    },
    {
     "ename": "AttributeError",
     "evalue": "'Father' object has no attribute 'disp'",
     "output_type": "error",
     "traceback": [
      "\u001b[1;31m---------------------------------------------------------------------------\u001b[0m",
      "\u001b[1;31mAttributeError\u001b[0m                            Traceback (most recent call last)",
      "\u001b[1;32m<ipython-input-4-0b12e334bcaf>\u001b[0m in \u001b[0;36m<module>\u001b[1;34m\u001b[0m\n\u001b[0;32m     24\u001b[0m \u001b[0mf\u001b[0m\u001b[1;33m.\u001b[0m\u001b[0mshowmoney\u001b[0m\u001b[1;33m(\u001b[0m\u001b[1;33m)\u001b[0m\u001b[1;33m\u001b[0m\u001b[1;33m\u001b[0m\u001b[0m\n\u001b[0;32m     25\u001b[0m \u001b[0mf\u001b[0m\u001b[1;33m.\u001b[0m\u001b[0mstat\u001b[0m\u001b[1;33m(\u001b[0m\u001b[1;33m)\u001b[0m\u001b[1;33m\u001b[0m\u001b[1;33m\u001b[0m\u001b[0m\n\u001b[1;32m---> 26\u001b[1;33m \u001b[0mf\u001b[0m\u001b[1;33m.\u001b[0m\u001b[0mdisp\u001b[0m\u001b[1;33m(\u001b[0m\u001b[1;33m)\u001b[0m\u001b[1;33m\u001b[0m\u001b[1;33m\u001b[0m\u001b[0m\n\u001b[0m",
      "\u001b[1;31mAttributeError\u001b[0m: 'Father' object has no attribute 'disp'"
     ]
    }
   ],
   "source": [
    "# Single Inheritance\n",
    "class Father:\n",
    "    money=20000\n",
    "    def show(self):\n",
    "        print(\"Parent Class Instance Method\")\n",
    "    @classmethod\n",
    "    def showmoney(cls):\n",
    "        print(\"Parent Class Method:\",cls.money)\n",
    "    @staticmethod\n",
    "    def stat():\n",
    "        a=10\n",
    "        print(\"Parent Static Method:\",a)\n",
    "class Son(Father):\n",
    "    def disp(self):\n",
    "        print(\"Child Class Instance Method\")\n",
    "s=Son()\n",
    "s.disp()\n",
    "s.show()\n",
    "s.showmoney()\n",
    "s.stat()\n",
    "print(\"\\n\")\n",
    "f=Father()\n",
    "f.show()\n",
    "f.showmoney()\n",
    "f.stat()\n",
    "f.disp()"
   ]
  },
  {
   "cell_type": "code",
   "execution_count": null,
   "metadata": {},
   "outputs": [],
   "source": []
  }
 ],
 "metadata": {
  "kernelspec": {
   "display_name": "Python 3",
   "language": "python",
   "name": "python3"
  },
  "language_info": {
   "codemirror_mode": {
    "name": "ipython",
    "version": 3
   },
   "file_extension": ".py",
   "mimetype": "text/x-python",
   "name": "python",
   "nbconvert_exporter": "python",
   "pygments_lexer": "ipython3",
   "version": "3.8.5"
  }
 },
 "nbformat": 4,
 "nbformat_minor": 4
}
