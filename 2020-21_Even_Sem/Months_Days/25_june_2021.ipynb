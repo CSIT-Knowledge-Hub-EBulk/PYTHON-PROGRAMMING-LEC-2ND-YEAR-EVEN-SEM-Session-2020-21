{
 "cells": [
  {
   "cell_type": "code",
   "execution_count": 1,
   "metadata": {},
   "outputs": [
    {
     "name": "stdout",
     "output_type": "stream",
     "text": [
      "RealMe-X\n"
     ]
    }
   ],
   "source": [
    " # Instance variable\n",
    "class Mobile:\n",
    "    def __init__(self):\n",
    "        self.model=\"RealMe-X\"\n",
    "    def show_model(self):\n",
    "        print(\"mobile= \",self.model)\n",
    "realme=Mobile()\n",
    "print(realme.model)"
   ]
  },
  {
   "cell_type": "code",
   "execution_count": 4,
   "metadata": {},
   "outputs": [
    {
     "name": "stdout",
     "output_type": "stream",
     "text": [
      "Realme-Y\n",
      "RealMe-X\n",
      "RealMe-X\n"
     ]
    }
   ],
   "source": [
    " # Instance variable\n",
    "class Mobile:\n",
    "    def __init__(self):\n",
    "        self.model=\"RealMe-X\"\n",
    "    def show_model(self):\n",
    "        print(\"mobile= \",self.model)\n",
    "realme=Mobile()\n",
    "realme.model=\"Realme-Y\"\n",
    "print(realme.model)\n",
    "redmi=Mobile()\n",
    "print(redmi.model)\n",
    "realpro=Mobile()\n",
    "print(realpro.model)"
   ]
  },
  {
   "cell_type": "code",
   "execution_count": null,
   "metadata": {},
   "outputs": [],
   "source": []
  }
 ],
 "metadata": {
  "kernelspec": {
   "display_name": "Python 3",
   "language": "python",
   "name": "python3"
  },
  "language_info": {
   "codemirror_mode": {
    "name": "ipython",
    "version": 3
   },
   "file_extension": ".py",
   "mimetype": "text/x-python",
   "name": "python",
   "nbconvert_exporter": "python",
   "pygments_lexer": "ipython3",
   "version": "3.8.5"
  }
 },
 "nbformat": 4,
 "nbformat_minor": 4
}
